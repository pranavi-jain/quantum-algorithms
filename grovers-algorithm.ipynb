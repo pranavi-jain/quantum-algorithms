{
 "cells": [
  {
   "cell_type": "markdown",
   "metadata": {},
   "source": [
    "# Benchmarking Different Quantum Hardware Devices using Grover's Algorithm"
   ]
  },
  {
   "cell_type": "markdown",
   "metadata": {},
   "source": [
    "## Code Steps:\n",
    "1. [Libraries, Parameters and Global Variables](#variables)\n",
    "2. [Constructing Grover's Circuit using Qiskit](#grover_circuit)\n",
    "3. [Running Grover's Circuits on IBM Hardware](#ibm)\n",
    "4. [Preparing Grover's Circuits on AWS Braket](#aws_circuits)\n",
    "    1. [Running Grover's Circuit on IonQ](#ionq)\n",
    "    2. [Running Grover's Circuit on Rigetti](#rigetti)\n",
    "5. [Collecting Results from Queued Jobs/Tasks](#results)\n",
    "5. [Saving Data to CSV files](#save_data)"
   ]
  },
  {
   "cell_type": "markdown",
   "metadata": {},
   "source": [
    "## 1. Libraries, Parameters and Global Variables <a name=\"variables\"></a>"
   ]
  },
  {
   "cell_type": "code",
   "execution_count": 1,
   "metadata": {},
   "outputs": [],
   "source": [
    "# Built-in modules\n",
    "%matplotlib inline\n",
    "import matplotlib.pyplot as plt\n",
    "import numpy as np\n",
    "import pandas as pd\n",
    "\n",
    "# Import Braket libraries\n",
    "from braket.aws import AwsDevice, AwsQuantumTask\n",
    "from braket.circuits import Circuit as awsCircuit, circuit\n",
    "from braket.devices import Devices, LocalSimulator\n",
    "\n",
    "# Imports from Qiskits\n",
    "from qiskit import QuantumCircuit\n",
    "from qiskit.visualization import plot_distribution\n",
    "\n",
    "# Imports from Qiskit Runtime\n",
    "from qiskit_ibm_runtime import QiskitRuntimeService\n",
    "\n",
    "# Import helper functions\n",
    "from helper import generate_short_key\n"
   ]
  },
  {
   "cell_type": "code",
   "execution_count": 2,
   "metadata": {},
   "outputs": [
    {
     "name": "stdout",
     "output_type": "stream",
     "text": [
      "Empty DataFrame\n",
      "Columns: [key, target_states, quantum_circuit, num_qubits, depth]\n",
      "Index: []\n",
      "Empty DataFrame\n",
      "Columns: [key, device_name, transpiled_depth, job_id, counts, execution_time]\n",
      "Index: []\n",
      "\n",
      "Generated Key: 58a0a33b\n"
     ]
    }
   ],
   "source": [
    "## Initialize global variables to store input parameters and output\n",
    "\n",
    "# Initialize the DataFrame for input parameters\n",
    "param_df = pd.DataFrame(columns=['key', 'target_states', 'quantum_circuit', 'num_qubits', 'depth'])\n",
    "\n",
    "# Initialize the DataFrame for storing output\n",
    "output_df = pd.DataFrame(columns=['key', 'device_name', 'transpiled_depth', 'job_id', 'counts', 'execution_time'])\n",
    "\n",
    "print(param_df)\n",
    "print(output_df)\n",
    "\n",
    "# Sample key generation\n",
    "key = generate_short_key()\n",
    "print(f\"\\nGenerated Key: {key}\")\n",
    "\n",
    "# Initialize lists to store IDs of jobs/tasks running on hardware\n",
    "tasks_ibm = []\n",
    "tasks_ionq = []\n",
    "tasks_rigetti = []"
   ]
  },
  {
   "cell_type": "markdown",
   "metadata": {},
   "source": [
    "## 2. Constructing Grover's Circuit using Qiskit <a name=\"grover_circuit\"></a>\n",
    "1. This section takes an upper limit to the number of qubits $(n_{max})$ in a circuit, describing the size of the database. \n",
    "2. A random string of n-bit `target_states`, i.e., states to be searched in the database, is generated to construct the Grover's Oracle. To reduce circuit depth, we set the number of possible target_states to be atmost 4.\n",
    "3. A total of $n_{max}$ Grover's circuits are generated, each with increasing number of qubits from 2 to $n_{max}$.\n",
    "4. This list of target states and Grover's circuits are stored in the `param_df` DataFrame."
   ]
  },
  {
   "cell_type": "code",
   "execution_count": 3,
   "metadata": {},
   "outputs": [
    {
     "name": "stdout",
     "output_type": "stream",
     "text": [
      "Target states: \n",
      " [['10']]\n"
     ]
    }
   ],
   "source": [
    "from helper import generate_random_n_bit_strings\n",
    "\n",
    "# Maximum number of qubits\n",
    "n_max = 2\n",
    "\n",
    "# Generate random target_states for the Oracle\n",
    "target_states = []\n",
    "\n",
    "for n in range(2, n_max+1):\n",
    "    states = generate_random_n_bit_strings(n)\n",
    "    target_states.append(states)\n",
    "print(f\"Target states: \\n {target_states}\")\n"
   ]
  },
  {
   "cell_type": "code",
   "execution_count": 4,
   "metadata": {},
   "outputs": [
    {
     "name": "stdout",
     "output_type": "stream",
     "text": [
      "        key target_states                                    quantum_circuit  \\\n",
      "0  1aa22e93          [10]  ((Instruction(name='h', num_qubits=1, num_clbi...   \n",
      "\n",
      "   num_qubits  depth  \n",
      "0           2      3  \n",
      "        ┌───┐┌────┐ ░ ┌─┐   \n",
      "   q_0: ┤ H ├┤0   ├─░─┤M├───\n",
      "        ├───┤│  Q │ ░ └╥┘┌─┐\n",
      "   q_1: ┤ H ├┤1   ├─░──╫─┤M├\n",
      "        └───┘└────┘ ░  ║ └╥┘\n",
      "meas: 2/═══════════════╩══╩═\n",
      "                       0  1 \n"
     ]
    }
   ],
   "source": [
    "from grover import grover_circuit\n",
    "\n",
    "# Generate n_max Grover's circuits and storing in Data Frame\n",
    "idx = 0\n",
    "param_df.drop(param_df.index, inplace=True)\n",
    "\n",
    "for states in target_states:\n",
    "    circuit = grover_circuit(states)\n",
    "    key = generate_short_key()\n",
    "    param_df.loc[idx] = [key, list(states), circuit, circuit.num_qubits, circuit.depth()]\n",
    "    idx = idx + 1\n",
    "\n",
    "print(param_df)\n",
    "\n",
    "# Print the Grover's circuits\n",
    "for qc in param_df[\"quantum_circuit\"]:\n",
    "    print(qc)"
   ]
  },
  {
   "cell_type": "markdown",
   "metadata": {},
   "source": [
    "## 3. Running Grover's Circuits on IBM Hardware <a name=\"ibm\"></a>"
   ]
  },
  {
   "cell_type": "code",
   "execution_count": 5,
   "metadata": {},
   "outputs": [
    {
     "name": "stdout",
     "output_type": "stream",
     "text": [
      "Backend Selected: <IBMBackend('ibm_fez')>\n"
     ]
    }
   ],
   "source": [
    "# Save an IBM Quantum account as the default account, and load saved credentials\n",
    "from ibm_qiskit.config import api_key \n",
    "\n",
    "QiskitRuntimeService.save_account(\n",
    "    channel=\"ibm_quantum\", token=api_key, set_as_default=True, overwrite=True\n",
    ")\n",
    "service = QiskitRuntimeService()\n",
    "# service.backends()  # List all available backends\n",
    "backend = service.backend(\"ibm_fez\")    # Choosing 'ibm_fez' backend \n",
    "print(f\"Backend Selected: {backend}\")"
   ]
  },
  {
   "cell_type": "code",
   "execution_count": 6,
   "metadata": {},
   "outputs": [],
   "source": [
    "from ibm_qiskit.run import aer_without_noise, aer_noisy, run_backend_job\n",
    "\n",
    "key_circuit = list(zip(param_df['key'], param_df['quantum_circuit']))\n",
    "\n",
    "# # Run circuits on Aer simulator (without noise)\n",
    "output = aer_without_noise(key_circuit)\n",
    "for key, depth, counts, time in output:\n",
    "    output_df.loc[len(output_df)] = [key, 'aer_sim', depth, '', counts, time]\n",
    "    \n",
    "\n",
    "# Run circuits on noisy Aer simulator\n",
    "output = aer_noisy(key_circuit, backend)\n",
    "for key, depth, counts, time in output:\n",
    "    output_df.loc[len(output_df)] = [key, 'aer_noisy', depth, '', counts, time]\n",
    "\n",
    "\n",
    "# Run circuits on actual IBM backend\n",
    "ibm_device = backend.name\n",
    "output = run_backend_job(key_circuit, backend)\n",
    "for key, job_id, depth in output:\n",
    "    output_df.loc[len(output_df)] = [key, ibm_device, depth, job_id, '', '']"
   ]
  },
  {
   "cell_type": "code",
   "execution_count": 10,
   "metadata": {},
   "outputs": [
    {
     "data": {
      "text/html": [
       "<div>\n",
       "<style scoped>\n",
       "    .dataframe tbody tr th:only-of-type {\n",
       "        vertical-align: middle;\n",
       "    }\n",
       "\n",
       "    .dataframe tbody tr th {\n",
       "        vertical-align: top;\n",
       "    }\n",
       "\n",
       "    .dataframe thead th {\n",
       "        text-align: right;\n",
       "    }\n",
       "</style>\n",
       "<table border=\"1\" class=\"dataframe\">\n",
       "  <thead>\n",
       "    <tr style=\"text-align: right;\">\n",
       "      <th></th>\n",
       "      <th>key</th>\n",
       "      <th>device_name</th>\n",
       "      <th>transpiled_depth</th>\n",
       "      <th>job_id</th>\n",
       "      <th>counts</th>\n",
       "      <th>execution_time</th>\n",
       "    </tr>\n",
       "  </thead>\n",
       "  <tbody>\n",
       "    <tr>\n",
       "      <th>0</th>\n",
       "      <td>1aa22e93</td>\n",
       "      <td>aer_sim</td>\n",
       "      <td>6</td>\n",
       "      <td></td>\n",
       "      <td>{'10': 1024}</td>\n",
       "      <td>2.02355</td>\n",
       "    </tr>\n",
       "    <tr>\n",
       "      <th>1</th>\n",
       "      <td>1aa22e93</td>\n",
       "      <td>aer_noisy</td>\n",
       "      <td>12</td>\n",
       "      <td></td>\n",
       "      <td>{'01': 6, '10': 970, '11': 12, '00': 36}</td>\n",
       "      <td>14.710615</td>\n",
       "    </tr>\n",
       "    <tr>\n",
       "      <th>2</th>\n",
       "      <td>1aa22e93</td>\n",
       "      <td>ibm_fez</td>\n",
       "      <td>9</td>\n",
       "      <td>cxapcgjrkac00089q27g</td>\n",
       "      <td></td>\n",
       "      <td></td>\n",
       "    </tr>\n",
       "  </tbody>\n",
       "</table>\n",
       "</div>"
      ],
      "text/plain": [
       "        key device_name  transpiled_depth                job_id  \\\n",
       "0  1aa22e93     aer_sim                 6                         \n",
       "1  1aa22e93   aer_noisy                12                         \n",
       "2  1aa22e93     ibm_fez                 9  cxapcgjrkac00089q27g   \n",
       "\n",
       "                                     counts execution_time  \n",
       "0                              {'10': 1024}        2.02355  \n",
       "1  {'01': 6, '10': 970, '11': 12, '00': 36}      14.710615  \n",
       "2                                                           "
      ]
     },
     "execution_count": 10,
     "metadata": {},
     "output_type": "execute_result"
    }
   ],
   "source": [
    "# Print all entries for IBM Hardware\n",
    "ibm_df = output_df[output_df['device_name'].isin(['aer_sim', 'aer_noisy', ibm_device])]\n",
    "ibm_df"
   ]
  },
  {
   "cell_type": "markdown",
   "metadata": {},
   "source": [
    "## 4. Preparing Grover's Circuits on AWS Braket <a name=\"aws_circuits\"></a>"
   ]
  },
  {
   "cell_type": "code",
   "execution_count": 17,
   "metadata": {},
   "outputs": [],
   "source": [
    "# Use Braket SDK Cost Tracking to estimate the cost to run this task\n",
    "from braket.tracking import Tracker\n",
    "\n",
    "t = Tracker().start()"
   ]
  },
  {
   "cell_type": "code",
   "execution_count": null,
   "metadata": {},
   "outputs": [],
   "source": [
    "# Step 2: Convert Qiskit Circuit to Braket Circuit\n",
    "braket_circuit = awsCircuit().from_qiskit(qiskit_circuit)"
   ]
  },
  {
   "cell_type": "markdown",
   "metadata": {},
   "source": [
    "### A. Running Grover's circuits on IonQ <a name=\"ionq\"></a>"
   ]
  },
  {
   "cell_type": "code",
   "execution_count": null,
   "metadata": {},
   "outputs": [],
   "source": []
  },
  {
   "cell_type": "markdown",
   "metadata": {},
   "source": [
    "### B. Running Grover's circuits on Rigetti <a name=\"rigetti\"></a>"
   ]
  },
  {
   "cell_type": "code",
   "execution_count": null,
   "metadata": {},
   "outputs": [],
   "source": []
  },
  {
   "cell_type": "markdown",
   "metadata": {},
   "source": [
    "## 5. Collecting Results from Queued Jobs/Tasks <a name=\"results\"></a>\n"
   ]
  },
  {
   "cell_type": "code",
   "execution_count": 11,
   "metadata": {},
   "outputs": [
    {
     "data": {
      "text/html": [
       "<div>\n",
       "<style scoped>\n",
       "    .dataframe tbody tr th:only-of-type {\n",
       "        vertical-align: middle;\n",
       "    }\n",
       "\n",
       "    .dataframe tbody tr th {\n",
       "        vertical-align: top;\n",
       "    }\n",
       "\n",
       "    .dataframe thead th {\n",
       "        text-align: right;\n",
       "    }\n",
       "</style>\n",
       "<table border=\"1\" class=\"dataframe\">\n",
       "  <thead>\n",
       "    <tr style=\"text-align: right;\">\n",
       "      <th></th>\n",
       "      <th>key</th>\n",
       "      <th>device_name</th>\n",
       "      <th>transpiled_depth</th>\n",
       "      <th>job_id</th>\n",
       "      <th>counts</th>\n",
       "      <th>execution_time</th>\n",
       "    </tr>\n",
       "  </thead>\n",
       "  <tbody>\n",
       "    <tr>\n",
       "      <th>0</th>\n",
       "      <td>1aa22e93</td>\n",
       "      <td>aer_sim</td>\n",
       "      <td>6</td>\n",
       "      <td></td>\n",
       "      <td>{'10': 1024}</td>\n",
       "      <td>2.02355</td>\n",
       "    </tr>\n",
       "    <tr>\n",
       "      <th>1</th>\n",
       "      <td>1aa22e93</td>\n",
       "      <td>aer_noisy</td>\n",
       "      <td>12</td>\n",
       "      <td></td>\n",
       "      <td>{'01': 6, '10': 970, '11': 12, '00': 36}</td>\n",
       "      <td>14.710615</td>\n",
       "    </tr>\n",
       "  </tbody>\n",
       "</table>\n",
       "</div>"
      ],
      "text/plain": [
       "        key device_name  transpiled_depth job_id  \\\n",
       "0  1aa22e93     aer_sim                 6          \n",
       "1  1aa22e93   aer_noisy                12          \n",
       "\n",
       "                                     counts execution_time  \n",
       "0                              {'10': 1024}        2.02355  \n",
       "1  {'01': 6, '10': 970, '11': 12, '00': 36}      14.710615  "
      ]
     },
     "execution_count": 11,
     "metadata": {},
     "output_type": "execute_result"
    }
   ],
   "source": [
    "# Print results from IBM simulators\n",
    "aer_df = output_df[output_df['device_name'].isin(['aer_sim', 'aer_noisy'])]\n",
    "aer_df"
   ]
  },
  {
   "cell_type": "code",
   "execution_count": null,
   "metadata": {},
   "outputs": [
    {
     "name": "stdout",
     "output_type": "stream",
     "text": [
      "Job cxapcgjrkac00089q27g is not completed yet. Current status: QUEUED\n"
     ]
    },
    {
     "data": {
      "text/html": [
       "<div>\n",
       "<style scoped>\n",
       "    .dataframe tbody tr th:only-of-type {\n",
       "        vertical-align: middle;\n",
       "    }\n",
       "\n",
       "    .dataframe tbody tr th {\n",
       "        vertical-align: top;\n",
       "    }\n",
       "\n",
       "    .dataframe thead th {\n",
       "        text-align: right;\n",
       "    }\n",
       "</style>\n",
       "<table border=\"1\" class=\"dataframe\">\n",
       "  <thead>\n",
       "    <tr style=\"text-align: right;\">\n",
       "      <th></th>\n",
       "      <th>key</th>\n",
       "      <th>device_name</th>\n",
       "      <th>transpiled_depth</th>\n",
       "      <th>job_id</th>\n",
       "      <th>counts</th>\n",
       "      <th>execution_time</th>\n",
       "    </tr>\n",
       "  </thead>\n",
       "  <tbody>\n",
       "    <tr>\n",
       "      <th>2</th>\n",
       "      <td>1aa22e93</td>\n",
       "      <td>ibm_fez</td>\n",
       "      <td>9</td>\n",
       "      <td>cxapcgjrkac00089q27g</td>\n",
       "      <td></td>\n",
       "      <td></td>\n",
       "    </tr>\n",
       "  </tbody>\n",
       "</table>\n",
       "</div>"
      ],
      "text/plain": [
       "        key device_name  transpiled_depth                job_id counts  \\\n",
       "2  1aa22e93     ibm_fez                 9  cxapcgjrkac00089q27g          \n",
       "\n",
       "  execution_time  \n",
       "2                 "
      ]
     },
     "execution_count": 16,
     "metadata": {},
     "output_type": "execute_result"
    }
   ],
   "source": [
    "# Get results from real IBM backend\n",
    "from helper import update_dataframe_with_job_results\n",
    "\n",
    "update_dataframe_with_job_results(service, output_df, ibm_device)\n",
    "\n",
    "# Print results from IBM device\n",
    "ibm_df = output_df[output_df['device_name'] == ibm_device]\n",
    "ibm_df"
   ]
  },
  {
   "cell_type": "code",
   "execution_count": null,
   "metadata": {},
   "outputs": [],
   "source": [
    "# Print results from AWS Simulators\n"
   ]
  },
  {
   "cell_type": "code",
   "execution_count": null,
   "metadata": {},
   "outputs": [],
   "source": [
    "# Get results from AWS linked hardware\n",
    "\n",
    "# Print results from AWS linked hardware"
   ]
  },
  {
   "cell_type": "markdown",
   "metadata": {},
   "source": [
    "## 6. Saving Data to CSV files<a name=\"save_data\"></a>"
   ]
  },
  {
   "cell_type": "code",
   "execution_count": 14,
   "metadata": {},
   "outputs": [],
   "source": [
    "# Save DataFrame to CSV files\n",
    "import os\n",
    "from datetime import datetime\n",
    "\n",
    "timestamp = datetime.now().strftime('%Y%m%d_%H%M%S')\n",
    "\n",
    "subfolder = 'saved_data'\n",
    "\n",
    "# Create the subfolder if it does not exist\n",
    "os.makedirs(subfolder, exist_ok=True)\n",
    "\n",
    "# Save DataFrames to CSV files\n",
    "param_name = os.path.join(subfolder, f\"parameters_{timestamp}.csv\")\n",
    "param_df.to_csv(param_name, index=False)  # index=False prevents extra index column\n",
    "\n",
    "output_name = os.path.join(subfolder, f\"output_{timestamp}.csv\")\n",
    "output_df.to_csv(output_name, index=False)"
   ]
  },
  {
   "cell_type": "code",
   "execution_count": null,
   "metadata": {},
   "outputs": [],
   "source": [
    "# Read from CSV files into DataFrames\n",
    "\n",
    "param_df = pd.read_csv('parameters.csv')\n",
    "output_df = pd.read_csv('output.csv')\n",
    "print(param_df)\n",
    "print(output_df)"
   ]
  },
  {
   "cell_type": "code",
   "execution_count": null,
   "metadata": {},
   "outputs": [],
   "source": []
  }
 ],
 "metadata": {
  "kernelspec": {
   "display_name": "venv",
   "language": "python",
   "name": "python3"
  },
  "language_info": {
   "codemirror_mode": {
    "name": "ipython",
    "version": 3
   },
   "file_extension": ".py",
   "mimetype": "text/x-python",
   "name": "python",
   "nbconvert_exporter": "python",
   "pygments_lexer": "ipython3",
   "version": "3.12.8"
  }
 },
 "nbformat": 4,
 "nbformat_minor": 2
}
