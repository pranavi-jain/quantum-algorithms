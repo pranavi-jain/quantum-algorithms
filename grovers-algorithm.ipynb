{
 "cells": [
  {
   "cell_type": "markdown",
   "metadata": {},
   "source": [
    "# Benchmarking Different Quantum Hardware Devices using Grover's Algorithm"
   ]
  },
  {
   "cell_type": "markdown",
   "metadata": {},
   "source": [
    "## Code Steps:\n",
    "1. [Libraries, Parameters and Global Variables](#variables)\n",
    "2. [Constructing Grover's Circuit using Qiskit](#grover_circuit)\n",
    "3. [Running Grover's Circuits on IBM Hardware](#ibm)\n",
    "4. [Running Grover's Circuits on AWS Braket](#aws_circuits)\n",
    "    1. [Running Grover's Circuit on IonQ (Forte)](#ionq)\n",
    "    2. [Running Grover's Circuit on IQM (Garnet)](#iqm)\n",
    "5. [Collecting Results from Queued Jobs/Tasks](#results)\n",
    "5. [Saving Data to CSV and JSON files](#save_data)"
   ]
  },
  {
   "cell_type": "markdown",
   "metadata": {},
   "source": [
    "## 1. Libraries, Parameters and Global Variables <a name=\"variables\"></a>"
   ]
  },
  {
   "cell_type": "code",
   "execution_count": 9,
   "metadata": {},
   "outputs": [],
   "source": [
    "# Built-in modules\n",
    "from datetime import datetime\n",
    "import numpy as np\n",
    "import os\n",
    "import pandas as pd\n",
    "\n",
    "# Imports from Braket\n",
    "from qiskit_braket_provider import BraketProvider\n",
    "\n",
    "# Imports from Qiskit\n",
    "from qiskit import qasm3\n",
    "\n",
    "# Imports from Qiskit Runtime\n",
    "from qiskit_ibm_runtime import QiskitRuntimeService\n",
    "\n",
    "# Import helper functions\n",
    "from helper import generate_short_key\n"
   ]
  },
  {
   "cell_type": "code",
   "execution_count": 10,
   "metadata": {},
   "outputs": [
    {
     "name": "stdout",
     "output_type": "stream",
     "text": [
      "Empty DataFrame\n",
      "Columns: [key, target_states, quantum_circuit, num_qubits, depth]\n",
      "Index: []\n",
      "Empty DataFrame\n",
      "Columns: [key, device_name, transpiled_depth, job_id, counts, execution_time]\n",
      "Index: []\n",
      "\n",
      "Generated Key: 529c21cc\n"
     ]
    }
   ],
   "source": [
    "## Initialize global variables to store input parameters and output\n",
    "\n",
    "# Initialize the DataFrame for input parameters\n",
    "param_df = pd.DataFrame(columns=['key', 'target_states', 'quantum_circuit', 'num_qubits', 'depth'])\n",
    "\n",
    "# Initialize the DataFrame for storing output\n",
    "output_df = pd.DataFrame(columns=['key', 'device_name', 'transpiled_depth', 'job_id', 'counts', 'execution_time'])\n",
    "\n",
    "print(param_df)\n",
    "print(output_df)\n",
    "\n",
    "# Sample key generation\n",
    "key = generate_short_key()\n",
    "print(f\"\\nGenerated Key: {key}\")"
   ]
  },
  {
   "cell_type": "code",
   "execution_count": 20,
   "metadata": {},
   "outputs": [],
   "source": [
    "# Read Data from JSON files to DataFrames\n",
    "## Do this for existing data only!\n",
    "from helper import get_quantum_circuit_from_json\n",
    "\n",
    "param_json = 'saved_data/parameters_20241208_1141.json'\n",
    "output_json = 'saved_data/output_20241208_1141.json'\n",
    "\n",
    "param_df = pd.read_json(param_json, orient=\"records\")\n",
    "param_df['quantum_circuit'] = get_quantum_circuit_from_json(param_df['quantum_circuit'])\n",
    "\n",
    "output_df = pd.read_json(output_json, orient=\"records\")"
   ]
  },
  {
   "cell_type": "code",
   "execution_count": 21,
   "metadata": {},
   "outputs": [
    {
     "data": {
      "text/html": [
       "<div>\n",
       "<style scoped>\n",
       "    .dataframe tbody tr th:only-of-type {\n",
       "        vertical-align: middle;\n",
       "    }\n",
       "\n",
       "    .dataframe tbody tr th {\n",
       "        vertical-align: top;\n",
       "    }\n",
       "\n",
       "    .dataframe thead th {\n",
       "        text-align: right;\n",
       "    }\n",
       "</style>\n",
       "<table border=\"1\" class=\"dataframe\">\n",
       "  <thead>\n",
       "    <tr style=\"text-align: right;\">\n",
       "      <th></th>\n",
       "      <th>key</th>\n",
       "      <th>target_states</th>\n",
       "      <th>quantum_circuit</th>\n",
       "      <th>num_qubits</th>\n",
       "      <th>depth</th>\n",
       "    </tr>\n",
       "  </thead>\n",
       "  <tbody>\n",
       "    <tr>\n",
       "      <th>0</th>\n",
       "      <td>b825c8a3</td>\n",
       "      <td>[00]</td>\n",
       "      <td>((Instruction(name='h', num_qubits=1, num_clbi...</td>\n",
       "      <td>2</td>\n",
       "      <td>12</td>\n",
       "    </tr>\n",
       "    <tr>\n",
       "      <th>1</th>\n",
       "      <td>28e6b1bb</td>\n",
       "      <td>[111]</td>\n",
       "      <td>((Instruction(name='h', num_qubits=1, num_clbi...</td>\n",
       "      <td>3</td>\n",
       "      <td>18</td>\n",
       "    </tr>\n",
       "    <tr>\n",
       "      <th>2</th>\n",
       "      <td>c2b53645</td>\n",
       "      <td>[1000]</td>\n",
       "      <td>((Instruction(name='h', num_qubits=1, num_clbi...</td>\n",
       "      <td>4</td>\n",
       "      <td>27</td>\n",
       "    </tr>\n",
       "    <tr>\n",
       "      <th>3</th>\n",
       "      <td>4910be1d</td>\n",
       "      <td>[11101, 01011, 00011]</td>\n",
       "      <td>((Instruction(name='h', num_qubits=1, num_clbi...</td>\n",
       "      <td>5</td>\n",
       "      <td>31</td>\n",
       "    </tr>\n",
       "    <tr>\n",
       "      <th>4</th>\n",
       "      <td>52df6f37</td>\n",
       "      <td>[011001, 001111]</td>\n",
       "      <td>((Instruction(name='h', num_qubits=1, num_clbi...</td>\n",
       "      <td>6</td>\n",
       "      <td>54</td>\n",
       "    </tr>\n",
       "  </tbody>\n",
       "</table>\n",
       "</div>"
      ],
      "text/plain": [
       "        key          target_states  \\\n",
       "0  b825c8a3                   [00]   \n",
       "1  28e6b1bb                  [111]   \n",
       "2  c2b53645                 [1000]   \n",
       "3  4910be1d  [11101, 01011, 00011]   \n",
       "4  52df6f37       [011001, 001111]   \n",
       "\n",
       "                                     quantum_circuit  num_qubits  depth  \n",
       "0  ((Instruction(name='h', num_qubits=1, num_clbi...           2     12  \n",
       "1  ((Instruction(name='h', num_qubits=1, num_clbi...           3     18  \n",
       "2  ((Instruction(name='h', num_qubits=1, num_clbi...           4     27  \n",
       "3  ((Instruction(name='h', num_qubits=1, num_clbi...           5     31  \n",
       "4  ((Instruction(name='h', num_qubits=1, num_clbi...           6     54  "
      ]
     },
     "execution_count": 21,
     "metadata": {},
     "output_type": "execute_result"
    }
   ],
   "source": [
    "param_df"
   ]
  },
  {
   "cell_type": "code",
   "execution_count": 22,
   "metadata": {},
   "outputs": [
    {
     "data": {
      "text/html": [
       "<div>\n",
       "<style scoped>\n",
       "    .dataframe tbody tr th:only-of-type {\n",
       "        vertical-align: middle;\n",
       "    }\n",
       "\n",
       "    .dataframe tbody tr th {\n",
       "        vertical-align: top;\n",
       "    }\n",
       "\n",
       "    .dataframe thead th {\n",
       "        text-align: right;\n",
       "    }\n",
       "</style>\n",
       "<table border=\"1\" class=\"dataframe\">\n",
       "  <thead>\n",
       "    <tr style=\"text-align: right;\">\n",
       "      <th></th>\n",
       "    </tr>\n",
       "  </thead>\n",
       "  <tbody>\n",
       "  </tbody>\n",
       "</table>\n",
       "</div>"
      ],
      "text/plain": [
       "Empty DataFrame\n",
       "Columns: []\n",
       "Index: []"
      ]
     },
     "execution_count": 22,
     "metadata": {},
     "output_type": "execute_result"
    }
   ],
   "source": [
    "output_df"
   ]
  },
  {
   "cell_type": "markdown",
   "metadata": {},
   "source": [
    "## 2. Constructing Grover's Circuit using Qiskit <a name=\"grover_circuit\"></a>\n",
    "1. This section takes an upper limit to the number of qubits $(n_{max})$ in a circuit, describing the size of the database. \n",
    "2. A random string of n-bit `target_states`, i.e., states to be searched in the database, is generated to construct the Grover's Oracle. To reduce circuit depth, we set the number of possible target_states to be atmost 4.\n",
    "3. A total of $n_{max}$ Grover's circuits are generated, each with increasing number of qubits from 2 to $n_{max}$.\n",
    "4. This list of target states and Grover's circuits are stored in the `param_df` DataFrame."
   ]
  },
  {
   "cell_type": "code",
   "execution_count": 14,
   "metadata": {},
   "outputs": [
    {
     "name": "stdout",
     "output_type": "stream",
     "text": [
      "Target states: \n",
      " [['00'], ['111'], ['1000'], ['11101', '01011', '00011'], ['011001', '001111']]\n"
     ]
    }
   ],
   "source": [
    "from helper import generate_random_n_bit_strings\n",
    "\n",
    "# Maximum number of qubits\n",
    "n_max = 6\n",
    "\n",
    "# Generate random target_states for the Oracle\n",
    "target_states = []\n",
    "\n",
    "for n in range(2, n_max+1):\n",
    "    states = generate_random_n_bit_strings(n)\n",
    "    target_states.append(states)\n",
    "print(f\"Target states: \\n {target_states}\")\n"
   ]
  },
  {
   "cell_type": "code",
   "execution_count": 15,
   "metadata": {},
   "outputs": [
    {
     "data": {
      "text/html": [
       "<div>\n",
       "<style scoped>\n",
       "    .dataframe tbody tr th:only-of-type {\n",
       "        vertical-align: middle;\n",
       "    }\n",
       "\n",
       "    .dataframe tbody tr th {\n",
       "        vertical-align: top;\n",
       "    }\n",
       "\n",
       "    .dataframe thead th {\n",
       "        text-align: right;\n",
       "    }\n",
       "</style>\n",
       "<table border=\"1\" class=\"dataframe\">\n",
       "  <thead>\n",
       "    <tr style=\"text-align: right;\">\n",
       "      <th></th>\n",
       "      <th>key</th>\n",
       "      <th>target_states</th>\n",
       "      <th>quantum_circuit</th>\n",
       "      <th>num_qubits</th>\n",
       "      <th>depth</th>\n",
       "    </tr>\n",
       "  </thead>\n",
       "  <tbody>\n",
       "    <tr>\n",
       "      <th>0</th>\n",
       "      <td>b825c8a3</td>\n",
       "      <td>[00]</td>\n",
       "      <td>((Instruction(name='h', num_qubits=1, num_clbi...</td>\n",
       "      <td>2</td>\n",
       "      <td>12</td>\n",
       "    </tr>\n",
       "    <tr>\n",
       "      <th>1</th>\n",
       "      <td>28e6b1bb</td>\n",
       "      <td>[111]</td>\n",
       "      <td>((Instruction(name='h', num_qubits=1, num_clbi...</td>\n",
       "      <td>3</td>\n",
       "      <td>18</td>\n",
       "    </tr>\n",
       "    <tr>\n",
       "      <th>2</th>\n",
       "      <td>c2b53645</td>\n",
       "      <td>[1000]</td>\n",
       "      <td>((Instruction(name='h', num_qubits=1, num_clbi...</td>\n",
       "      <td>4</td>\n",
       "      <td>27</td>\n",
       "    </tr>\n",
       "    <tr>\n",
       "      <th>3</th>\n",
       "      <td>4910be1d</td>\n",
       "      <td>[11101, 01011, 00011]</td>\n",
       "      <td>((Instruction(name='h', num_qubits=1, num_clbi...</td>\n",
       "      <td>5</td>\n",
       "      <td>31</td>\n",
       "    </tr>\n",
       "    <tr>\n",
       "      <th>4</th>\n",
       "      <td>52df6f37</td>\n",
       "      <td>[011001, 001111]</td>\n",
       "      <td>((Instruction(name='h', num_qubits=1, num_clbi...</td>\n",
       "      <td>6</td>\n",
       "      <td>54</td>\n",
       "    </tr>\n",
       "  </tbody>\n",
       "</table>\n",
       "</div>"
      ],
      "text/plain": [
       "        key          target_states  \\\n",
       "0  b825c8a3                   [00]   \n",
       "1  28e6b1bb                  [111]   \n",
       "2  c2b53645                 [1000]   \n",
       "3  4910be1d  [11101, 01011, 00011]   \n",
       "4  52df6f37       [011001, 001111]   \n",
       "\n",
       "                                     quantum_circuit  num_qubits  depth  \n",
       "0  ((Instruction(name='h', num_qubits=1, num_clbi...           2     12  \n",
       "1  ((Instruction(name='h', num_qubits=1, num_clbi...           3     18  \n",
       "2  ((Instruction(name='h', num_qubits=1, num_clbi...           4     27  \n",
       "3  ((Instruction(name='h', num_qubits=1, num_clbi...           5     31  \n",
       "4  ((Instruction(name='h', num_qubits=1, num_clbi...           6     54  "
      ]
     },
     "execution_count": 15,
     "metadata": {},
     "output_type": "execute_result"
    }
   ],
   "source": [
    "from grover import grover_circuit\n",
    "\n",
    "# Generate n_max Grover's circuits and storing in Data Frame\n",
    "idx = 0\n",
    "param_df.drop(param_df.index, inplace=True)\n",
    "\n",
    "for states in target_states:\n",
    "    circuit = grover_circuit(states)\n",
    "    key = generate_short_key()\n",
    "    param_df.loc[idx] = [key, list(states), circuit, circuit.num_qubits, circuit.depth()]\n",
    "    idx = idx + 1\n",
    "\n",
    "param_df"
   ]
  },
  {
   "cell_type": "code",
   "execution_count": 23,
   "metadata": {},
   "outputs": [
    {
     "name": "stdout",
     "output_type": "stream",
     "text": [
      "        ┌───┐┌───┐┌───────┐┌───┐┌───┐┌───┐          ┌───┐┌───┐      ░ ┌─┐   \n",
      "   q_0: ┤ H ├┤ X ├┤0      ├┤ X ├┤ H ├┤ X ├───────■──┤ X ├┤ H ├──────░─┤M├───\n",
      "        ├───┤├───┤│  mcmt │├───┤├───┤├───┤┌───┐┌─┴─┐├───┤├───┤┌───┐ ░ └╥┘┌─┐\n",
      "   q_1: ┤ H ├┤ X ├┤1      ├┤ X ├┤ H ├┤ X ├┤ H ├┤ X ├┤ H ├┤ X ├┤ H ├─░──╫─┤M├\n",
      "        └───┘└───┘└───────┘└───┘└───┘└───┘└───┘└───┘└───┘└───┘└───┘ ░  ║ └╥┘\n",
      "meas: 2/═══════════════════════════════════════════════════════════════╩══╩═\n",
      "                                                                       0  1 \n",
      "        ┌───┐┌───────┐┌───┐┌───┐          ┌───┐┌───┐     ┌───────┐┌───┐┌───┐»\n",
      "   q_0: ┤ H ├┤0      ├┤ H ├┤ X ├───────■──┤ X ├┤ H ├─────┤0      ├┤ H ├┤ X ├»\n",
      "        ├───┤│       │├───┤├───┤       │  ├───┤├───┤     │       │├───┤├───┤»\n",
      "   q_1: ┤ H ├┤1 mcmt ├┤ H ├┤ X ├───────■──┤ X ├┤ H ├─────┤1 mcmt ├┤ H ├┤ X ├»\n",
      "        ├───┤│       │├───┤├───┤┌───┐┌─┴─┐├───┤├───┤┌───┐│       │├───┤├───┤»\n",
      "   q_2: ┤ H ├┤2      ├┤ H ├┤ X ├┤ H ├┤ X ├┤ H ├┤ X ├┤ H ├┤2      ├┤ H ├┤ X ├»\n",
      "        └───┘└───────┘└───┘└───┘└───┘└───┘└───┘└───┘└───┘└───────┘└───┘└───┘»\n",
      "meas: 3/════════════════════════════════════════════════════════════════════»\n",
      "                                                                            »\n",
      "«                  ┌───┐┌───┐      ░ ┌─┐      \n",
      "«   q_0: ───────■──┤ X ├┤ H ├──────░─┤M├──────\n",
      "«               │  ├───┤├───┤      ░ └╥┘┌─┐   \n",
      "«   q_1: ───────■──┤ X ├┤ H ├──────░──╫─┤M├───\n",
      "«        ┌───┐┌─┴─┐├───┤├───┤┌───┐ ░  ║ └╥┘┌─┐\n",
      "«   q_2: ┤ H ├┤ X ├┤ H ├┤ X ├┤ H ├─░──╫──╫─┤M├\n",
      "«        └───┘└───┘└───┘└───┘└───┘ ░  ║  ║ └╥┘\n",
      "«meas: 3/═════════════════════════════╩══╩══╩═\n",
      "«                                     0  1  2 \n",
      "        ┌───┐┌───┐┌───────┐┌───┐┌───┐┌───┐     ┌───┐┌───┐┌───┐┌───────┐┌───┐»\n",
      "   q_0: ┤ H ├┤ X ├┤0      ├┤ X ├┤ H ├┤ X ├──■──┤ X ├┤ H ├┤ X ├┤0      ├┤ X ├»\n",
      "        ├───┤├───┤│       │├───┤├───┤├───┤  │  ├───┤├───┤├───┤│       │├───┤»\n",
      "   q_1: ┤ H ├┤ X ├┤1      ├┤ X ├┤ H ├┤ X ├──■──┤ X ├┤ H ├┤ X ├┤1      ├┤ X ├»\n",
      "        ├───┤├───┤│  mcmt │├───┤├───┤├───┤  │  ├───┤├───┤├───┤│  mcmt │├───┤»\n",
      "   q_2: ┤ H ├┤ X ├┤2      ├┤ X ├┤ H ├┤ X ├──■──┤ X ├┤ H ├┤ X ├┤2      ├┤ X ├»\n",
      "        ├───┤└───┘│       │├───┤├───┤├───┤┌─┴─┐├───┤├───┤├───┤│       │├───┤»\n",
      "   q_3: ┤ H ├─────┤3      ├┤ H ├┤ X ├┤ H ├┤ X ├┤ H ├┤ X ├┤ H ├┤3      ├┤ H ├»\n",
      "        └───┘     └───────┘└───┘└───┘└───┘└───┘└───┘└───┘└───┘└───────┘└───┘»\n",
      "meas: 4/════════════════════════════════════════════════════════════════════»\n",
      "                                                                            »\n",
      "«        ┌───┐┌───┐     ┌───┐┌───┐┌───┐┌───────┐┌───┐┌───┐┌───┐     ┌───┐┌───┐»\n",
      "«   q_0: ┤ H ├┤ X ├──■──┤ X ├┤ H ├┤ X ├┤0      ├┤ X ├┤ H ├┤ X ├──■──┤ X ├┤ H ├»\n",
      "«        ├───┤├───┤  │  ├───┤├───┤├───┤│       │├───┤├───┤├───┤  │  ├───┤├───┤»\n",
      "«   q_1: ┤ H ├┤ X ├──■──┤ X ├┤ H ├┤ X ├┤1      ├┤ X ├┤ H ├┤ X ├──■──┤ X ├┤ H ├»\n",
      "«        ├───┤├───┤  │  ├───┤├───┤├───┤│  mcmt │├───┤├───┤├───┤  │  ├───┤├───┤»\n",
      "«   q_2: ┤ H ├┤ X ├──■──┤ X ├┤ H ├┤ X ├┤2      ├┤ X ├┤ H ├┤ X ├──■──┤ X ├┤ H ├»\n",
      "«        ├───┤├───┤┌─┴─┐├───┤├───┤├───┤│       │├───┤├───┤├───┤┌─┴─┐├───┤├───┤»\n",
      "«   q_3: ┤ X ├┤ H ├┤ X ├┤ H ├┤ X ├┤ H ├┤3      ├┤ H ├┤ X ├┤ H ├┤ X ├┤ H ├┤ X ├»\n",
      "«        └───┘└───┘└───┘└───┘└───┘└───┘└───────┘└───┘└───┘└───┘└───┘└───┘└───┘»\n",
      "«meas: 4/═════════════════════════════════════════════════════════════════════»\n",
      "«                                                                             »\n",
      "«              ░ ┌─┐         \n",
      "«   q_0: ──────░─┤M├─────────\n",
      "«              ░ └╥┘┌─┐      \n",
      "«   q_1: ──────░──╫─┤M├──────\n",
      "«              ░  ║ └╥┘┌─┐   \n",
      "«   q_2: ──────░──╫──╫─┤M├───\n",
      "«        ┌───┐ ░  ║  ║ └╥┘┌─┐\n",
      "«   q_3: ┤ H ├─░──╫──╫──╫─┤M├\n",
      "«        └───┘ ░  ║  ║  ║ └╥┘\n",
      "«meas: 4/═════════╩══╩══╩══╩═\n",
      "«                 0  1  2  3 \n",
      "        ┌───┐     ┌───────┐     ┌───────┐          ┌───────┐┌───┐┌───┐     »\n",
      "   q_0: ┤ H ├─────┤0      ├─────┤0      ├──────────┤0      ├┤ H ├┤ X ├─────»\n",
      "        ├───┤┌───┐│       │┌───┐│       │          │       │├───┤├───┤     »\n",
      "   q_1: ┤ H ├┤ X ├┤1      ├┤ X ├┤1      ├──────────┤1      ├┤ H ├┤ X ├─────»\n",
      "        ├───┤└───┘│       │├───┤│       │┌───┐┌───┐│       │├───┤├───┤┌───┐»\n",
      "   q_2: ┤ H ├─────┤2 mcmt ├┤ X ├┤2 mcmt ├┤ X ├┤ X ├┤2 mcmt ├┤ X ├┤ H ├┤ X ├»\n",
      "        ├───┤     │       │└───┘│       │├───┤└───┘│       │├───┤├───┤├───┤»\n",
      "   q_3: ┤ H ├─────┤3      ├─────┤3      ├┤ X ├─────┤3      ├┤ X ├┤ H ├┤ X ├»\n",
      "        ├───┤     │       │┌───┐│       │├───┤┌───┐│       │├───┤├───┤├───┤»\n",
      "   q_4: ┤ H ├─────┤4      ├┤ X ├┤4      ├┤ X ├┤ X ├┤4      ├┤ X ├┤ H ├┤ X ├»\n",
      "        └───┘     └───────┘└───┘└───────┘└───┘└───┘└───────┘└───┘└───┘└───┘»\n",
      "meas: 5/═══════════════════════════════════════════════════════════════════»\n",
      "                                                                           »\n",
      "«                  ┌───┐┌───┐     ┌───────┐     ┌───────┐          ┌───────┐»\n",
      "«   q_0: ───────■──┤ X ├┤ H ├─────┤0      ├─────┤0      ├──────────┤0      ├»\n",
      "«               │  ├───┤├───┤┌───┐│       │┌───┐│       │          │       │»\n",
      "«   q_1: ───────■──┤ X ├┤ H ├┤ X ├┤1      ├┤ X ├┤1      ├──────────┤1      ├»\n",
      "«               │  ├───┤├───┤└───┘│       │├───┤│       │┌───┐┌───┐│       │»\n",
      "«   q_2: ───────■──┤ X ├┤ H ├─────┤2 mcmt ├┤ X ├┤2 mcmt ├┤ X ├┤ X ├┤2 mcmt ├»\n",
      "«               │  ├───┤├───┤     │       │└───┘│       │├───┤└───┘│       │»\n",
      "«   q_3: ───────■──┤ X ├┤ H ├─────┤3      ├─────┤3      ├┤ X ├─────┤3      ├»\n",
      "«        ┌───┐┌─┴─┐├───┤├───┤┌───┐│       │┌───┐│       │├───┤┌───┐│       │»\n",
      "«   q_4: ┤ H ├┤ X ├┤ H ├┤ X ├┤ H ├┤4      ├┤ X ├┤4      ├┤ X ├┤ X ├┤4      ├»\n",
      "«        └───┘└───┘└───┘└───┘└───┘└───────┘└───┘└───────┘└───┘└───┘└───────┘»\n",
      "«meas: 5/═══════════════════════════════════════════════════════════════════»\n",
      "«                                                                           »\n",
      "«        ┌───┐┌───┐               ┌───┐┌───┐      ░ ┌─┐            \n",
      "«   q_0: ┤ H ├┤ X ├────────────■──┤ X ├┤ H ├──────░─┤M├────────────\n",
      "«        ├───┤├───┤            │  ├───┤├───┤      ░ └╥┘┌─┐         \n",
      "«   q_1: ┤ H ├┤ X ├────────────■──┤ X ├┤ H ├──────░──╫─┤M├─────────\n",
      "«        ├───┤├───┤┌───┐       │  ├───┤├───┤      ░  ║ └╥┘┌─┐      \n",
      "«   q_2: ┤ X ├┤ H ├┤ X ├───────■──┤ X ├┤ H ├──────░──╫──╫─┤M├──────\n",
      "«        ├───┤├───┤├───┤       │  ├───┤├───┤      ░  ║  ║ └╥┘┌─┐   \n",
      "«   q_3: ┤ X ├┤ H ├┤ X ├───────■──┤ X ├┤ H ├──────░──╫──╫──╫─┤M├───\n",
      "«        ├───┤├───┤├───┤┌───┐┌─┴─┐├───┤├───┤┌───┐ ░  ║  ║  ║ └╥┘┌─┐\n",
      "«   q_4: ┤ X ├┤ H ├┤ X ├┤ H ├┤ X ├┤ H ├┤ X ├┤ H ├─░──╫──╫──╫──╫─┤M├\n",
      "«        └───┘└───┘└───┘└───┘└───┘└───┘└───┘└───┘ ░  ║  ║  ║  ║ └╥┘\n",
      "«meas: 5/════════════════════════════════════════════╩══╩══╩══╩══╩═\n",
      "«                                                    0  1  2  3  4 \n",
      "        ┌───┐     ┌───────┐          ┌───────┐┌───┐┌───┐               ┌───┐»\n",
      "   q_0: ┤ H ├─────┤0      ├──────────┤0      ├┤ H ├┤ X ├────────────■──┤ X ├»\n",
      "        ├───┤┌───┐│       │┌───┐     │       │├───┤├───┤            │  ├───┤»\n",
      "   q_1: ┤ H ├┤ X ├┤1      ├┤ X ├─────┤1      ├┤ H ├┤ X ├────────────■──┤ X ├»\n",
      "        ├───┤├───┤│       │├───┤     │       │├───┤├───┤            │  ├───┤»\n",
      "   q_2: ┤ H ├┤ X ├┤2      ├┤ X ├─────┤2      ├┤ H ├┤ X ├────────────■──┤ X ├»\n",
      "        ├───┤└───┘│  mcmt │└───┘     │  mcmt │├───┤├───┤            │  ├───┤»\n",
      "   q_3: ┤ H ├─────┤3      ├──────────┤3      ├┤ H ├┤ X ├────────────■──┤ X ├»\n",
      "        ├───┤     │       │┌───┐     │       │├───┤├───┤┌───┐       │  ├───┤»\n",
      "   q_4: ┤ H ├─────┤4      ├┤ X ├─────┤4      ├┤ X ├┤ H ├┤ X ├───────■──┤ X ├»\n",
      "        ├───┤┌───┐│       │├───┤┌───┐│       │├───┤├───┤├───┤┌───┐┌─┴─┐├───┤»\n",
      "   q_5: ┤ H ├┤ X ├┤5      ├┤ X ├┤ X ├┤5      ├┤ X ├┤ H ├┤ X ├┤ H ├┤ X ├┤ H ├»\n",
      "        └───┘└───┘└───────┘└───┘└───┘└───────┘└───┘└───┘└───┘└───┘└───┘└───┘»\n",
      "meas: 6/════════════════════════════════════════════════════════════════════»\n",
      "                                                                            »\n",
      "«        ┌───┐          ┌───────┐          ┌───────┐┌───┐┌───┐               »\n",
      "«   q_0: ┤ H ├──────────┤0      ├──────────┤0      ├┤ H ├┤ X ├────────────■──»\n",
      "«        ├───┤┌───┐     │       │┌───┐     │       │├───┤├───┤            │  »\n",
      "«   q_1: ┤ H ├┤ X ├─────┤1      ├┤ X ├─────┤1      ├┤ H ├┤ X ├────────────■──»\n",
      "«        ├───┤├───┤     │       │├───┤     │       │├───┤├───┤            │  »\n",
      "«   q_2: ┤ H ├┤ X ├─────┤2      ├┤ X ├─────┤2      ├┤ H ├┤ X ├────────────■──»\n",
      "«        ├───┤└───┘     │  mcmt │└───┘     │  mcmt │├───┤├───┤            │  »\n",
      "«   q_3: ┤ H ├──────────┤3      ├──────────┤3      ├┤ H ├┤ X ├────────────■──»\n",
      "«        ├───┤          │       │┌───┐     │       │├───┤├───┤┌───┐       │  »\n",
      "«   q_4: ┤ H ├──────────┤4      ├┤ X ├─────┤4      ├┤ X ├┤ H ├┤ X ├───────■──»\n",
      "«        ├───┤┌───┐┌───┐│       │├───┤┌───┐│       │├───┤├───┤├───┤┌───┐┌─┴─┐»\n",
      "«   q_5: ┤ X ├┤ H ├┤ X ├┤5      ├┤ X ├┤ X ├┤5      ├┤ X ├┤ H ├┤ X ├┤ H ├┤ X ├»\n",
      "«        └───┘└───┘└───┘└───────┘└───┘└───┘└───────┘└───┘└───┘└───┘└───┘└───┘»\n",
      "«meas: 6/════════════════════════════════════════════════════════════════════»\n",
      "«                                                                            »\n",
      "«        ┌───┐┌───┐          ┌───────┐          ┌───────┐┌───┐┌───┐          »\n",
      "«   q_0: ┤ X ├┤ H ├──────────┤0      ├──────────┤0      ├┤ H ├┤ X ├──────────»\n",
      "«        ├───┤├───┤┌───┐     │       │┌───┐     │       │├───┤├───┤          »\n",
      "«   q_1: ┤ X ├┤ H ├┤ X ├─────┤1      ├┤ X ├─────┤1      ├┤ H ├┤ X ├──────────»\n",
      "«        ├───┤├───┤├───┤     │       │├───┤     │       │├───┤├───┤          »\n",
      "«   q_2: ┤ X ├┤ H ├┤ X ├─────┤2      ├┤ X ├─────┤2      ├┤ H ├┤ X ├──────────»\n",
      "«        ├───┤├───┤└───┘     │  mcmt │└───┘     │  mcmt │├───┤├───┤          »\n",
      "«   q_3: ┤ X ├┤ H ├──────────┤3      ├──────────┤3      ├┤ H ├┤ X ├──────────»\n",
      "«        ├───┤├───┤          │       │┌───┐     │       │├───┤├───┤┌───┐     »\n",
      "«   q_4: ┤ X ├┤ H ├──────────┤4      ├┤ X ├─────┤4      ├┤ X ├┤ H ├┤ X ├─────»\n",
      "«        ├───┤├───┤┌───┐┌───┐│       │├───┤┌───┐│       │├───┤├───┤├───┤┌───┐»\n",
      "«   q_5: ┤ H ├┤ X ├┤ H ├┤ X ├┤5      ├┤ X ├┤ X ├┤5      ├┤ X ├┤ H ├┤ X ├┤ H ├»\n",
      "«        └───┘└───┘└───┘└───┘└───────┘└───┘└───┘└───────┘└───┘└───┘└───┘└───┘»\n",
      "«meas: 6/════════════════════════════════════════════════════════════════════»\n",
      "«                                                                            »\n",
      "«             ┌───┐┌───┐          ┌───────┐          ┌───────┐┌───┐┌───┐     »\n",
      "«   q_0: ──■──┤ X ├┤ H ├──────────┤0      ├──────────┤0      ├┤ H ├┤ X ├─────»\n",
      "«          │  ├───┤├───┤┌───┐     │       │┌───┐     │       │├───┤├───┤     »\n",
      "«   q_1: ──■──┤ X ├┤ H ├┤ X ├─────┤1      ├┤ X ├─────┤1      ├┤ H ├┤ X ├─────»\n",
      "«          │  ├───┤├───┤├───┤     │       │├───┤     │       │├───┤├───┤     »\n",
      "«   q_2: ──■──┤ X ├┤ H ├┤ X ├─────┤2      ├┤ X ├─────┤2      ├┤ H ├┤ X ├─────»\n",
      "«          │  ├───┤├───┤└───┘     │  mcmt │└───┘     │  mcmt │├───┤├───┤     »\n",
      "«   q_3: ──■──┤ X ├┤ H ├──────────┤3      ├──────────┤3      ├┤ H ├┤ X ├─────»\n",
      "«          │  ├───┤├───┤          │       │┌───┐     │       │├───┤├───┤┌───┐»\n",
      "«   q_4: ──■──┤ X ├┤ H ├──────────┤4      ├┤ X ├─────┤4      ├┤ X ├┤ H ├┤ X ├»\n",
      "«        ┌─┴─┐├───┤├───┤┌───┐┌───┐│       │├───┤┌───┐│       │├───┤├───┤├───┤»\n",
      "«   q_5: ┤ X ├┤ H ├┤ X ├┤ H ├┤ X ├┤5      ├┤ X ├┤ X ├┤5      ├┤ X ├┤ H ├┤ X ├»\n",
      "«        └───┘└───┘└───┘└───┘└───┘└───────┘└───┘└───┘└───────┘└───┘└───┘└───┘»\n",
      "«meas: 6/════════════════════════════════════════════════════════════════════»\n",
      "«                                                                            »\n",
      "«                  ┌───┐┌───┐      ░ ┌─┐               \n",
      "«   q_0: ───────■──┤ X ├┤ H ├──────░─┤M├───────────────\n",
      "«               │  ├───┤├───┤      ░ └╥┘┌─┐            \n",
      "«   q_1: ───────■──┤ X ├┤ H ├──────░──╫─┤M├────────────\n",
      "«               │  ├───┤├───┤      ░  ║ └╥┘┌─┐         \n",
      "«   q_2: ───────■──┤ X ├┤ H ├──────░──╫──╫─┤M├─────────\n",
      "«               │  ├───┤├───┤      ░  ║  ║ └╥┘┌─┐      \n",
      "«   q_3: ───────■──┤ X ├┤ H ├──────░──╫──╫──╫─┤M├──────\n",
      "«               │  ├───┤├───┤      ░  ║  ║  ║ └╥┘┌─┐   \n",
      "«   q_4: ───────■──┤ X ├┤ H ├──────░──╫──╫──╫──╫─┤M├───\n",
      "«        ┌───┐┌─┴─┐├───┤├───┤┌───┐ ░  ║  ║  ║  ║ └╥┘┌─┐\n",
      "«   q_5: ┤ H ├┤ X ├┤ H ├┤ X ├┤ H ├─░──╫──╫──╫──╫──╫─┤M├\n",
      "«        └───┘└───┘└───┘└───┘└───┘ ░  ║  ║  ║  ║  ║ └╥┘\n",
      "«meas: 6/═════════════════════════════╩══╩══╩══╩══╩══╩═\n",
      "«                                     0  1  2  3  4  5 \n"
     ]
    }
   ],
   "source": [
    "# Print the Grover's circuits\n",
    "for qc in param_df[\"quantum_circuit\"]:\n",
    "    print(qc)"
   ]
  },
  {
   "cell_type": "markdown",
   "metadata": {},
   "source": [
    "## 3. Running Grover's Circuits on IBM Hardware <a name=\"ibm\"></a>"
   ]
  },
  {
   "cell_type": "code",
   "execution_count": null,
   "metadata": {},
   "outputs": [],
   "source": [
    "# Save an IBM Quantum account as the default account, and load saved credentials\n",
    "from ibm_qiskit.config import api_key \n",
    "\n",
    "QiskitRuntimeService.save_account(\n",
    "    channel=\"ibm_quantum\", token=api_key, set_as_default=True, overwrite=True\n",
    ")\n",
    "service = QiskitRuntimeService()\n",
    "# service.backends()  # List all available backends"
   ]
  },
  {
   "cell_type": "code",
   "execution_count": null,
   "metadata": {},
   "outputs": [],
   "source": [
    "from ibm_qiskit.run import aer_without_noise, aer_noisy\n",
    "\n",
    "key_circuit = list(zip(param_df['key'], param_df['quantum_circuit']))\n",
    "\n",
    "# Run circuits on Aer simulator (without noise)\n",
    "output = aer_without_noise(key_circuit)\n",
    "for key, depth, counts, time in output:\n",
    "    output_df.loc[len(output_df)] = [key, 'aer_sim', depth, '', counts, time]\n",
    "    \n",
    "\n",
    "# Select an IBM backend device to model noise\n",
    "backend = service.backend(\"ibm_fez\")    # Choosing 'ibm_fez' backend \n",
    "print(f\"Backend Selected: {backend}\")\n",
    "\n",
    "# Run circuits on noisy Aer simulator\n",
    "output = aer_noisy(key_circuit, backend)\n",
    "for key, depth, counts, time in output:\n",
    "    output_df.loc[len(output_df)] = [key, 'aer_noisy', depth, '', counts, time]"
   ]
  },
  {
   "cell_type": "code",
   "execution_count": null,
   "metadata": {},
   "outputs": [],
   "source": [
    "# Select an IBM backend device\n",
    "\n",
    "backends = [service.backend(\"ibm_fez\")] \n",
    "print(f\"Backends Selected: {backends}\")"
   ]
  },
  {
   "cell_type": "code",
   "execution_count": null,
   "metadata": {},
   "outputs": [],
   "source": [
    "from ibm_qiskit.run import run_backend_job\n",
    "\n",
    "key_circuit = list(zip(param_df['key'], param_df['quantum_circuit']))\n",
    "\n",
    "# Run circuits on actual IBM backends\n",
    "for backend in backends:\n",
    "    ibm_device = backend.name\n",
    "    output = run_backend_job(key_circuit, backend)\n",
    "    for key, job_id, depth in output:\n",
    "        output_df.loc[len(output_df)] = [key, ibm_device, depth, job_id, '', '']\n"
   ]
  },
  {
   "cell_type": "code",
   "execution_count": null,
   "metadata": {},
   "outputs": [],
   "source": [
    "# Print all output entries for IBM Hardware\n",
    "ibm_df = output_df[output_df['device_name'].str.startswith(('aer', 'ibm'))]\n",
    "ibm_df"
   ]
  },
  {
   "cell_type": "markdown",
   "metadata": {},
   "source": [
    "## 4. Running Grover's Circuits on AWS Braket <a name=\"aws_circuits\"></a>"
   ]
  },
  {
   "cell_type": "code",
   "execution_count": null,
   "metadata": {},
   "outputs": [],
   "source": [
    "\n",
    "# Use Braket SDK Cost Tracking to estimate the cost to run this task\n",
    "from braket.tracking import Tracker\n",
    "\n",
    "t = Tracker().start()"
   ]
  },
  {
   "cell_type": "code",
   "execution_count": null,
   "metadata": {},
   "outputs": [],
   "source": [
    "# Get AWS provider names\n",
    "provider = BraketProvider()\n",
    "print(provider.backends())"
   ]
  },
  {
   "cell_type": "code",
   "execution_count": null,
   "metadata": {},
   "outputs": [],
   "source": [
    "from aws_braket.run import aws_local_simulator, aws_online_simulator\n",
    "\n",
    "key_circuit = list(zip(param_df['key'], param_df['quantum_circuit']))\n",
    "\n",
    "# Run circuits on AWS local simulator (zero noise model)\n",
    "output = aws_local_simulator(key_circuit)\n",
    "for key, depth, counts, time in output:\n",
    "    output_df.loc[len(output_df)] = [key, 'aws_local', depth, '', counts, time]\n",
    "\n",
    "\n",
    "# Run circuits on noisy AWS StateVector simulator\n",
    "sim = \"SV1\"\n",
    "output = aws_online_simulator(key_circuit, sim)\n",
    "for key, depth, counts, time in output:\n",
    "    device = 'aws'+sim\n",
    "    output_df.loc[len(output_df)] = [key, device, depth, '', counts, time]\n"
   ]
  },
  {
   "cell_type": "markdown",
   "metadata": {},
   "source": [
    "### A. Running Grover's circuits on IonQ (Forte) <a name=\"ionq\"></a>"
   ]
  },
  {
   "cell_type": "code",
   "execution_count": null,
   "metadata": {},
   "outputs": [],
   "source": [
    "from aws_braket.run import aws_run_task\n",
    "\n",
    "key_circuit = list(zip(param_df['key'], param_df['quantum_circuit']))\n",
    "ionq_device = \"Forte 1\"\n",
    "shots = 10\n",
    "\n",
    "# Run circuits on AWS linked IonQ hardware\n",
    "output = aws_run_task(key_circuit, ionq_device, shots)\n",
    "for key, depth, task_arn in output:\n",
    "    device = 'aws_'+ionq_device\n",
    "    output_df.loc[len(output_df)] = [key, device, depth, task_arn, '', '']\n"
   ]
  },
  {
   "cell_type": "code",
   "execution_count": null,
   "metadata": {},
   "outputs": [],
   "source": [
    "device\n",
    "print(device[4:])"
   ]
  },
  {
   "cell_type": "markdown",
   "metadata": {},
   "source": [
    "### B. Running Grover's circuits on IQM (Garnet) <a name=\"iqm\"></a>"
   ]
  },
  {
   "cell_type": "code",
   "execution_count": null,
   "metadata": {},
   "outputs": [],
   "source": [
    "from aws_braket.run import aws_run_task\n",
    "\n",
    "key_circuit = list(zip(param_df['key'], param_df['quantum_circuit']))\n",
    "iqm_device = \"Garnet\"\n",
    "shots = 100\n",
    "\n",
    "# Run circuits on AWS linked RIgetti hardware\n",
    "output = aws_run_task(key_circuit, iqm_device, shots)\n",
    "for key, depth, task_arn in output:\n",
    "    device = 'aws_'+iqm_device\n",
    "    output_df.loc[len(output_df)] = [key, device, depth, '', '', '']\n"
   ]
  },
  {
   "cell_type": "code",
   "execution_count": null,
   "metadata": {},
   "outputs": [],
   "source": [
    "# Print all output entries for AWS linked hardware\n",
    "aws_df = output_df[output_df['device_name'].str.startswith(('aws'))]\n",
    "aws_df"
   ]
  },
  {
   "cell_type": "code",
   "execution_count": null,
   "metadata": {},
   "outputs": [],
   "source": [
    "print(\"Quantum Task Summary\")\n",
    "print(t.quantum_tasks_statistics())\n",
    "print(\n",
    "    \"Note: Charges shown are estimates based on your Amazon Braket simulator and quantum processing \"\n",
    "    \"unit (QPU) task usage. Estimated charges shown may differ from your actual charges. Estimated \"\n",
    "    \"charges do not factor in any discounts or credits, and you may experience additional charges \"\n",
    "    \"based on your use of other services such as Amazon Elastic Compute Cloud (Amazon EC2).\"\n",
    ")\n",
    "print(\n",
    "    f\"Estimated cost to run simulator tasks: {t.simulator_tasks_cost():.3f} USD\"\n",
    ")\n",
    "print(\n",
    "    f\"Estimated cost to run the entire task: {t.qpu_tasks_cost() + t.simulator_tasks_cost():.3f} USD\"\n",
    ")"
   ]
  },
  {
   "cell_type": "markdown",
   "metadata": {},
   "source": [
    "## 5. Collecting Results from Queued Jobs/Tasks <a name=\"results\"></a>\n"
   ]
  },
  {
   "cell_type": "code",
   "execution_count": null,
   "metadata": {},
   "outputs": [],
   "source": [
    "# Print all output entries\n",
    "output_df"
   ]
  },
  {
   "cell_type": "code",
   "execution_count": null,
   "metadata": {},
   "outputs": [],
   "source": [
    "# Get results from real IBM backend\n",
    "from ibm_qiskit.helper import update_dataframe_with_ibm_results\n",
    "\n",
    "service = QiskitRuntimeService()\n",
    "update_dataframe_with_ibm_results(service, output_df)\n",
    "\n",
    "# Print results from IBM devices\n",
    "ibm_df = output_df[output_df['device_name'].str.startswith(('aer', 'ibm'))]\n",
    "ibm_df"
   ]
  },
  {
   "cell_type": "code",
   "execution_count": null,
   "metadata": {},
   "outputs": [],
   "source": [
    "# Get results from AWS linked devices\n",
    "from aws_braket.helper import update_dataframe_with_aws_results\n",
    "\n",
    "update_dataframe_with_aws_results(output_df)\n",
    "\n",
    "# Print results from AWS linked devices\n",
    "aws_df = output_df[output_df['device_name'].str.startswith(('aws'))]\n",
    "aws_df"
   ]
  },
  {
   "cell_type": "markdown",
   "metadata": {},
   "source": [
    "## 6. Saving Data to CSV and JSON files<a name=\"save_data\"></a>"
   ]
  },
  {
   "cell_type": "code",
   "execution_count": 17,
   "metadata": {},
   "outputs": [],
   "source": [
    "# Creating Timestamps (Run only once for a given set of data)\n",
    "\n",
    "timestamp = datetime.now().strftime('%Y%m%d_%H%M')\n",
    "\n",
    "subfolder = 'saved_data'\n",
    "\n",
    "# Create the subfolder if it does not exist\n",
    "os.makedirs(subfolder, exist_ok=True)\n",
    "\n",
    "# Create file names\n",
    "param_csv = os.path.join(subfolder, f\"parameters_{timestamp}.csv\")\n",
    "output_csv = os.path.join(subfolder, f\"output_{timestamp}.csv\")\n",
    "\n",
    "param_json = os.path.join(subfolder, f\"parameters_{timestamp}.json\")\n",
    "output_json = os.path.join(subfolder, f\"output_{timestamp}.json\")"
   ]
  },
  {
   "cell_type": "code",
   "execution_count": 18,
   "metadata": {},
   "outputs": [],
   "source": [
    "# Save DataFrames to CSV files\n",
    "\n",
    "# # Give file name to update existing files\n",
    "# param_csv = 'saved_data/parameters_20241208_0844.csv'\n",
    "# output_csv = 'saved_data/output_20241208_0844.csv'\n",
    "\n",
    "param_df.to_csv(param_csv, index=False)  # index=False prevents extra index column\n",
    "output_df.to_csv(output_csv, index=False)"
   ]
  },
  {
   "cell_type": "code",
   "execution_count": 19,
   "metadata": {},
   "outputs": [],
   "source": [
    "# Save DataFrames to JSON files\n",
    "import copy\n",
    "from helper import get_circuit_list_for_json\n",
    "\n",
    "# # Give file name to update existing files\n",
    "# param_json = 'saved_data/parameters_20241208_0844.json'\n",
    "# output_json = 'saved_data/output_20241208_0844.json'\n",
    "\n",
    "store_df = copy.deepcopy(param_df)\n",
    "store_df['quantum_circuit'] = get_circuit_list_for_json(store_df['quantum_circuit'])\n",
    "store_df.to_json(param_json, orient='records')\n",
    "\n",
    "output_df.to_json(output_json, orient='records')\n"
   ]
  },
  {
   "cell_type": "markdown",
   "metadata": {},
   "source": [
    "----------------------------- End of Notebook ------------------------------"
   ]
  }
 ],
 "metadata": {
  "kernelspec": {
   "display_name": "venv",
   "language": "python",
   "name": "python3"
  },
  "language_info": {
   "codemirror_mode": {
    "name": "ipython",
    "version": 3
   },
   "file_extension": ".py",
   "mimetype": "text/x-python",
   "name": "python",
   "nbconvert_exporter": "python",
   "pygments_lexer": "ipython3",
   "version": "3.12.8"
  }
 },
 "nbformat": 4,
 "nbformat_minor": 2
}
