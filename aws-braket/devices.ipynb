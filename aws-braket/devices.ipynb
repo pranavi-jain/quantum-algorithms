{
 "cells": [
  {
   "cell_type": "markdown",
   "metadata": {},
   "source": [
    "# Amazon Braket Devices"
   ]
  },
  {
   "cell_type": "code",
   "execution_count": 2,
   "metadata": {},
   "outputs": [
    {
     "data": {
      "text/plain": [
       "GateModelSimulatorDeviceCapabilities(service=DeviceServiceProperties(braketSchemaHeader=BraketSchemaHeader(name='braket.device_schema.device_service_properties', version='1'), executionWindows=[DeviceExecutionWindow(executionDay=<ExecutionDay.EVERYDAY: 'Everyday'>, windowStartHour=datetime.time(0, 0), windowEndHour=datetime.time(23, 59, 59))], shotsRange=(0, 9223372036854775807), deviceCost=None, deviceDocumentation=None, deviceLocation=None, updatedAt=None, getTaskPollIntervalMillis=None), action={<DeviceActionType.JAQCD: 'braket.ir.jaqcd.program'>: JaqcdDeviceActionProperties(version=['1'], actionType='braket.ir.jaqcd.program', supportedOperations=['ccnot', 'cnot', 'cphaseshift', 'cphaseshift00', 'cphaseshift01', 'cphaseshift10', 'cswap', 'cv', 'cy', 'cz', 'ecr', 'h', 'i', 'iswap', 'pswap', 'phaseshift', 'rx', 'ry', 'rz', 's', 'si', 'swap', 't', 'ti', 'unitary', 'v', 'vi', 'x', 'xx', 'xy', 'y', 'yy', 'z', 'zz'], supportedResultTypes=[ResultType(name='Sample', observables=['x', 'y', 'z', 'h', 'i', 'hermitian'], minShots=1, maxShots=9223372036854775807), ResultType(name='Expectation', observables=['x', 'y', 'z', 'h', 'i', 'hermitian'], minShots=0, maxShots=9223372036854775807), ResultType(name='Variance', observables=['x', 'y', 'z', 'h', 'i', 'hermitian'], minShots=0, maxShots=9223372036854775807), ResultType(name='Probability', observables=None, minShots=0, maxShots=9223372036854775807), ResultType(name='StateVector', observables=None, minShots=0, maxShots=0), ResultType(name='DensityMatrix', observables=None, minShots=0, maxShots=0), ResultType(name='Amplitude', observables=None, minShots=0, maxShots=0)], disabledQubitRewiringSupported=None), <DeviceActionType.OPENQASM: 'braket.ir.openqasm.program'>: OpenQASMDeviceActionProperties(version=['1'], actionType='braket.ir.openqasm.program', supportedOperations=['U', 'GPhase', 'ccnot', 'cnot', 'cphaseshift', 'cphaseshift00', 'cphaseshift01', 'cphaseshift10', 'cswap', 'cv', 'cy', 'cz', 'ecr', 'gpi', 'gpi2', 'h', 'i', 'iswap', 'ms', 'pswap', 'phaseshift', 'prx', 'rx', 'ry', 'rz', 's', 'si', 'swap', 't', 'ti', 'unitary', 'v', 'vi', 'x', 'xx', 'xy', 'y', 'yy', 'z', 'zz'], supportedModifiers=[Control(name='ctrl', max_qubits=None), NegControl(name='negctrl', max_qubits=None), Power(name='pow', exponent_types=[<ExponentType.INT: 'int'>, <ExponentType.FLOAT: 'float'>]), Inverse(name='inv')], supportedPragmas=['braket_unitary_matrix', 'braket_result_type_state_vector', 'braket_result_type_density_matrix', 'braket_result_type_sample', 'braket_result_type_expectation', 'braket_result_type_variance', 'braket_result_type_probability', 'braket_result_type_amplitude'], forbiddenPragmas=['braket_noise_amplitude_damping', 'braket_noise_bit_flip', 'braket_noise_depolarizing', 'braket_noise_kraus', 'braket_noise_pauli_channel', 'braket_noise_generalized_amplitude_damping', 'braket_noise_phase_flip', 'braket_noise_phase_damping', 'braket_noise_two_qubit_dephasing', 'braket_noise_two_qubit_depolarizing', 'braket_result_type_adjoint_gradient'], maximumQubitArrays=None, maximumClassicalArrays=None, forbiddenArrayOperations=[], requiresAllQubitsMeasurement=False, supportPhysicalQubits=False, requiresContiguousQubitIndices=False, supportsPartialVerbatimBox=False, supportsUnassignedMeasurements=True, disabledQubitRewiringSupported=False, supportedResultTypes=[ResultType(name='Sample', observables=['x', 'y', 'z', 'h', 'i', 'hermitian'], minShots=1, maxShots=9223372036854775807), ResultType(name='Expectation', observables=['x', 'y', 'z', 'h', 'i', 'hermitian'], minShots=0, maxShots=9223372036854775807), ResultType(name='Variance', observables=['x', 'y', 'z', 'h', 'i', 'hermitian'], minShots=0, maxShots=9223372036854775807), ResultType(name='Probability', observables=None, minShots=0, maxShots=9223372036854775807), ResultType(name='StateVector', observables=None, minShots=0, maxShots=0), ResultType(name='DensityMatrix', observables=None, minShots=0, maxShots=0), ResultType(name='Amplitude', observables=None, minShots=0, maxShots=0)])}, deviceParameters={'title': 'GateModelSimulatorDeviceParameters', 'description': 'This defines the parameters common to all the gatemodel devices.\\n\\nAttributes:\\n    paradigmParameters: Parameters that are common to gatemodel paradigm\\n\\nExamples:\\n    >>> import json\\n    >>> input_json = {\\n    ...    \"braketSchemaHeader\": {\\n    ...        \"name\": \"braket.device_schema.simulators.gate_model_simulator_device_parameters\",\\n    ...        \"version\": \"1\",\\n    ...    },\\n    ...    \"paradigmParameters\": {\"braketSchemaHeader\": {\\n    ...        \"name\": \"braket.device_schema.gate_model_parameters\",\\n    ...        \"version\": \"1\",\\n    ...    },\"qubitCount\": 1},\\n    ... }\\n    >>> GateModelSimulatorDeviceParameters.parse_raw_schema(json.dumps(input_json))', 'type': 'object', 'properties': {'braketSchemaHeader': {'title': 'Braketschemaheader', 'default': {'name': 'braket.device_schema.simulators.gate_model_simulator_device_parameters', 'version': '1'}, 'const': BraketSchemaHeader(name='braket.device_schema.simulators.gate_model_simulator_device_parameters', version='1')}, 'paradigmParameters': {'$ref': '#/definitions/GateModelParameters'}}, 'required': ['paradigmParameters'], 'definitions': {'GateModelParameters': {'title': 'GateModelParameters', 'description': 'Defines parameters common to all gate model devices.\\n\\nAttributes:\\n    qubitCount: Number of qubits used by the circuit.\\n    disableQubitRewiring: Whether to run the circuit with the exact qubits chosen,\\n        without any rewiring downstream.\\n        If ``True``, no qubit rewiring is allowed; if ``False``, qubit rewiring is allowed.\\n\\nExamples:\\n    >>> import json\\n    >>> input_json = {\\n    ...    \"braketSchemaHeader\": {\\n    ...        \"name\": \"braket.device_schema.gate_model_parameters\",\\n    ...        \"version\": \"1\",\\n    ...    },\\n    ...    \"qubitCount\": 1,\\n    ...    \"disableQubitRewiring\": True\\n    ... }\\n    >>> GateModelParameters.parse_raw_schema(json.dumps(input_json))', 'type': 'object', 'properties': {'braketSchemaHeader': {'title': 'Braketschemaheader', 'default': {'name': 'braket.device_schema.gate_model_parameters', 'version': '1'}, 'const': BraketSchemaHeader(name='braket.device_schema.gate_model_parameters', version='1')}, 'qubitCount': {'title': 'Qubitcount', 'minimum': 0, 'type': 'integer'}, 'disableQubitRewiring': {'title': 'Disablequbitrewiring', 'default': False, 'type': 'boolean'}}, 'required': ['qubitCount']}}}, braketSchemaHeader=BraketSchemaHeader(name='braket.device_schema.simulators.gate_model_simulator_device_capabilities', version='1'), paradigm=GateModelSimulatorParadigmProperties(braketSchemaHeader=BraketSchemaHeader(name='braket.device_schema.simulators.gate_model_simulator_paradigm_properties', version='1'), qubitCount=26))"
      ]
     },
     "execution_count": 2,
     "metadata": {},
     "output_type": "execute_result"
    }
   ],
   "source": [
    "from braket.aws import AwsDevice\n",
    "from braket.devices import LocalSimulator\n",
    "\n",
    "device = AwsDevice('arn:aws:braket:::device/quantum-simulator/amazon/sv1')              #SV1\n",
    "# device = LocalSimulator()                                                             #Local State Vector Simulator\n",
    "# device = LocalSimulator(\"default\")                                                    #Local State Vector Simulator\n",
    "# device = LocalSimulator(backend=\"default\")                                            #Local State Vector Simulator\n",
    "device = LocalSimulator(backend=\"braket_sv\")                                          #Local State Vector Simulator\n",
    "# device = LocalSimulator(backend=\"braket_dm\")                                          #Local Density Matrix Simulator\n",
    "# device = LocalSimulator(backend=\"braket_ahs\")                                         #Local Analog Hamiltonian Simulation\n",
    "# device = AwsDevice('arn:aws:braket:::device/quantum-simulator/amazon/tn1')            #TN1\n",
    "# device = AwsDevice('arn:aws:braket:::device/quantum-simulator/amazon/dm1')            #DM1\n",
    "# device = AwsDevice('arn:aws:braket:us-east-1::device/qpu/ionq/Aria-1')                #IonQ Aria-1\n",
    "# device = AwsDevice('arn:aws:braket:us-east-1::device/qpu/ionq/Aria-2')                #IonQ Aria-2\n",
    "# device = AwsDevice('arn:aws:braket:us-east-1::device/qpu/ionq/Forte-1')               #IonQ Forte-1\n",
    "# device = AwsDevice('arn:aws:braket:eu-north-1::device/qpu/iqm/Garnet')                #IQM Garnet\n",
    "# device = AwsDevice('arn:aws:braket:us-east-1::device/qpu/quera/Aquila')               #QuEra Aquila\n",
    "# device = AwsDevice('arn:aws:braket:us-west-1::device/qpu/rigetti/Ankaa-2')            #Rigetti Ankaa-2\n",
    "\n",
    "# get device properties\n",
    "device.properties"
   ]
  },
  {
   "cell_type": "code",
   "execution_count": null,
   "metadata": {},
   "outputs": [],
   "source": []
  }
 ],
 "metadata": {
  "kernelspec": {
   "display_name": "venv",
   "language": "python",
   "name": "python3"
  },
  "language_info": {
   "codemirror_mode": {
    "name": "ipython",
    "version": 3
   },
   "file_extension": ".py",
   "mimetype": "text/x-python",
   "name": "python",
   "nbconvert_exporter": "python",
   "pygments_lexer": "ipython3",
   "version": "3.12.8"
  }
 },
 "nbformat": 4,
 "nbformat_minor": 2
}
