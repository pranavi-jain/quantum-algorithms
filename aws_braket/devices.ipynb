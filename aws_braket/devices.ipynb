{
 "cells": [
  {
   "cell_type": "markdown",
   "metadata": {},
   "source": [
    "# Amazon Braket Devices"
   ]
  },
  {
   "cell_type": "code",
   "execution_count": 2,
   "metadata": {},
   "outputs": [
    {
     "data": {
      "text/plain": [
       "GateModelSimulatorDeviceCapabilities(service=DeviceServiceProperties(braketSchemaHeader=BraketSchemaHeader(name='braket.device_schema.device_service_properties', version='1'), executionWindows=[DeviceExecutionWindow(executionDay=<ExecutionDay.EVERYDAY: 'Everyday'>, windowStartHour=datetime.time(0, 0), windowEndHour=datetime.time(23, 59, 59))], shotsRange=(0, 9223372036854775807), deviceCost=None, deviceDocumentation=None, deviceLocation=None, updatedAt=None, getTaskPollIntervalMillis=None), action={<DeviceActionType.JAQCD: 'braket.ir.jaqcd.program'>: JaqcdDeviceActionProperties(version=['1'], actionType='braket.ir.jaqcd.program', supportedOperations=['ccnot', 'cnot', 'cphaseshift', 'cphaseshift00', 'cphaseshift01', 'cphaseshift10', 'cswap', 'cv', 'cy', 'cz', 'ecr', 'h', 'i', 'iswap', 'pswap', 'phaseshift', 'rx', 'ry', 'rz', 's', 'si', 'swap', 't', 'ti', 'unitary', 'v', 'vi', 'x', 'xx', 'xy', 'y', 'yy', 'z', 'zz'], supportedResultTypes=[ResultType(name='Sample', observables=['x', 'y', 'z', 'h', 'i', 'hermitian'], minShots=1, maxShots=9223372036854775807), ResultType(name='Expectation', observables=['x', 'y', 'z', 'h', 'i', 'hermitian'], minShots=0, maxShots=9223372036854775807), ResultType(name='Variance', observables=['x', 'y', 'z', 'h', 'i', 'hermitian'], minShots=0, maxShots=9223372036854775807), ResultType(name='Probability', observables=None, minShots=0, maxShots=9223372036854775807), ResultType(name='StateVector', observables=None, minShots=0, maxShots=0), ResultType(name='DensityMatrix', observables=None, minShots=0, maxShots=0), ResultType(name='Amplitude', observables=None, minShots=0, maxShots=0)], disabledQubitRewiringSupported=None), <DeviceActionType.OPENQASM: 'braket.ir.openqasm.program'>: OpenQASMDeviceActionProperties(version=['1'], actionType='braket.ir.openqasm.program', supportedOperations=['U', 'GPhase', 'ccnot', 'cnot', 'cphaseshift', 'cphaseshift00', 'cphaseshift01', 'cphaseshift10', 'cswap', 'cv', 'cy', 'cz', 'ecr', 'gpi', 'gpi2', 'h', 'i', 'iswap', 'ms', 'pswap', 'phaseshift', 'prx', 'rx', 'ry', 'rz', 's', 'si', 'swap', 't', 'ti', 'unitary', 'v', 'vi', 'x', 'xx', 'xy', 'y', 'yy', 'z', 'zz'], supportedModifiers=[Control(name='ctrl', max_qubits=None), NegControl(name='negctrl', max_qubits=None), Power(name='pow', exponent_types=[<ExponentType.INT: 'int'>, <ExponentType.FLOAT: 'float'>]), Inverse(name='inv')], supportedPragmas=['braket_unitary_matrix', 'braket_result_type_state_vector', 'braket_result_type_density_matrix', 'braket_result_type_sample', 'braket_result_type_expectation', 'braket_result_type_variance', 'braket_result_type_probability', 'braket_result_type_amplitude'], forbiddenPragmas=['braket_noise_amplitude_damping', 'braket_noise_bit_flip', 'braket_noise_depolarizing', 'braket_noise_kraus', 'braket_noise_pauli_channel', 'braket_noise_generalized_amplitude_damping', 'braket_noise_phase_flip', 'braket_noise_phase_damping', 'braket_noise_two_qubit_dephasing', 'braket_noise_two_qubit_depolarizing', 'braket_result_type_adjoint_gradient'], maximumQubitArrays=None, maximumClassicalArrays=None, forbiddenArrayOperations=[], requiresAllQubitsMeasurement=False, supportPhysicalQubits=False, requiresContiguousQubitIndices=False, supportsPartialVerbatimBox=False, supportsUnassignedMeasurements=True, disabledQubitRewiringSupported=False, supportedResultTypes=[ResultType(name='Sample', observables=['x', 'y', 'z', 'h', 'i', 'hermitian'], minShots=1, maxShots=9223372036854775807), ResultType(name='Expectation', observables=['x', 'y', 'z', 'h', 'i', 'hermitian'], minShots=0, maxShots=9223372036854775807), ResultType(name='Variance', observables=['x', 'y', 'z', 'h', 'i', 'hermitian'], minShots=0, maxShots=9223372036854775807), ResultType(name='Probability', observables=None, minShots=0, maxShots=9223372036854775807), ResultType(name='StateVector', observables=None, minShots=0, maxShots=0), ResultType(name='DensityMatrix', observables=None, minShots=0, maxShots=0), ResultType(name='Amplitude', observables=None, minShots=0, maxShots=0)])}, deviceParameters={'title': 'GateModelSimulatorDeviceParameters', 'description': 'This defines the parameters common to all the gatemodel devices.\\n\\nAttributes:\\n    paradigmParameters: Parameters that are common to gatemodel paradigm\\n\\nExamples:\\n    >>> import json\\n    >>> input_json = {\\n    ...    \"braketSchemaHeader\": {\\n    ...        \"name\": \"braket.device_schema.simulators.gate_model_simulator_device_parameters\",\\n    ...        \"version\": \"1\",\\n    ...    },\\n    ...    \"paradigmParameters\": {\"braketSchemaHeader\": {\\n    ...        \"name\": \"braket.device_schema.gate_model_parameters\",\\n    ...        \"version\": \"1\",\\n    ...    },\"qubitCount\": 1},\\n    ... }\\n    >>> GateModelSimulatorDeviceParameters.parse_raw_schema(json.dumps(input_json))', 'type': 'object', 'properties': {'braketSchemaHeader': {'title': 'Braketschemaheader', 'default': {'name': 'braket.device_schema.simulators.gate_model_simulator_device_parameters', 'version': '1'}, 'const': BraketSchemaHeader(name='braket.device_schema.simulators.gate_model_simulator_device_parameters', version='1')}, 'paradigmParameters': {'$ref': '#/definitions/GateModelParameters'}}, 'required': ['paradigmParameters'], 'definitions': {'GateModelParameters': {'title': 'GateModelParameters', 'description': 'Defines parameters common to all gate model devices.\\n\\nAttributes:\\n    qubitCount: Number of qubits used by the circuit.\\n    disableQubitRewiring: Whether to run the circuit with the exact qubits chosen,\\n        without any rewiring downstream.\\n        If ``True``, no qubit rewiring is allowed; if ``False``, qubit rewiring is allowed.\\n\\nExamples:\\n    >>> import json\\n    >>> input_json = {\\n    ...    \"braketSchemaHeader\": {\\n    ...        \"name\": \"braket.device_schema.gate_model_parameters\",\\n    ...        \"version\": \"1\",\\n    ...    },\\n    ...    \"qubitCount\": 1,\\n    ...    \"disableQubitRewiring\": True\\n    ... }\\n    >>> GateModelParameters.parse_raw_schema(json.dumps(input_json))', 'type': 'object', 'properties': {'braketSchemaHeader': {'title': 'Braketschemaheader', 'default': {'name': 'braket.device_schema.gate_model_parameters', 'version': '1'}, 'const': BraketSchemaHeader(name='braket.device_schema.gate_model_parameters', version='1')}, 'qubitCount': {'title': 'Qubitcount', 'minimum': 0, 'type': 'integer'}, 'disableQubitRewiring': {'title': 'Disablequbitrewiring', 'default': False, 'type': 'boolean'}}, 'required': ['qubitCount']}}}, braketSchemaHeader=BraketSchemaHeader(name='braket.device_schema.simulators.gate_model_simulator_device_capabilities', version='1'), paradigm=GateModelSimulatorParadigmProperties(braketSchemaHeader=BraketSchemaHeader(name='braket.device_schema.simulators.gate_model_simulator_paradigm_properties', version='1'), qubitCount=26))"
      ]
     },
     "execution_count": 2,
     "metadata": {},
     "output_type": "execute_result"
    }
   ],
   "source": [
    "from braket.aws import AwsDevice\n",
    "from braket.devices import LocalSimulator\n",
    "\n",
    "device = AwsDevice('arn:aws:braket:::device/quantum-simulator/amazon/sv1')              #SV1\n",
    "# device = LocalSimulator()                                                             #Local State Vector Simulator\n",
    "# device = LocalSimulator(\"default\")                                                    #Local State Vector Simulator\n",
    "# device = LocalSimulator(backend=\"default\")                                            #Local State Vector Simulator\n",
    "device = LocalSimulator(backend=\"braket_sv\")                                          #Local State Vector Simulator\n",
    "# device = LocalSimulator(backend=\"braket_dm\")                                          #Local Density Matrix Simulator\n",
    "# device = LocalSimulator(backend=\"braket_ahs\")                                         #Local Analog Hamiltonian Simulation\n",
    "# device = AwsDevice('arn:aws:braket:::device/quantum-simulator/amazon/tn1')            #TN1\n",
    "# device = AwsDevice('arn:aws:braket:::device/quantum-simulator/amazon/dm1')            #DM1\n",
    "# device = AwsDevice('arn:aws:braket:us-east-1::device/qpu/ionq/Aria-1')                #IonQ Aria-1\n",
    "# device = AwsDevice('arn:aws:braket:us-east-1::device/qpu/ionq/Aria-2')                #IonQ Aria-2\n",
    "# device = AwsDevice('arn:aws:braket:us-east-1::device/qpu/ionq/Forte-1')               #IonQ Forte-1\n",
    "# device = AwsDevice('arn:aws:braket:eu-north-1::device/qpu/iqm/Garnet')                #IQM Garnet\n",
    "# device = AwsDevice('arn:aws:braket:us-east-1::device/qpu/quera/Aquila')               #QuEra Aquila\n",
    "# device = AwsDevice('arn:aws:braket:us-west-1::device/qpu/rigetti/Ankaa-2')            #Rigetti Ankaa-2\n",
    "\n",
    "# get device properties\n",
    "device.properties"
   ]
  },
  {
   "cell_type": "markdown",
   "metadata": {},
   "source": [
    "## Supported Gates by Different Devices"
   ]
  },
  {
   "cell_type": "code",
   "execution_count": 1,
   "metadata": {},
   "outputs": [],
   "source": [
    "# general imports\n",
    "import matplotlib.pyplot as plt\n",
    "\n",
    "# magic word for producing visualizations in notebook\n",
    "%matplotlib inline\n",
    "import string\n",
    "\n",
    "# AWS imports: Import Braket SDK modules\n",
    "from braket.aws import AwsDevice, AwsQuantumTask\n",
    "from braket.circuits import Circuit, Gate, observables\n",
    "from braket.device_schema import DeviceActionType\n",
    "from braket.devices import Devices, LocalSimulator\n",
    "from braket.parametric import FreeParameter"
   ]
  },
  {
   "cell_type": "code",
   "execution_count": 2,
   "metadata": {},
   "outputs": [
    {
     "name": "stdout",
     "output_type": "stream",
     "text": [
      "Gate set supported by SDK:\n",
      " ['CCNot', 'CNot', 'CPhaseShift', 'CPhaseShift00', 'CPhaseShift01', 'CPhaseShift10', 'CSwap', 'CV', 'CY', 'CZ', 'ECR', 'GPhase', 'GPi', 'GPi2', 'H', 'I', 'ISwap', 'MS', 'PRx', 'PSwap', 'PhaseShift', 'PulseGate', 'Rx', 'Ry', 'Rz', 'S', 'Si', 'Swap', 'T', 'Ti', 'U', 'Unitary', 'V', 'Vi', 'X', 'XX', 'XY', 'Y', 'YY', 'Z', 'ZZ']\n",
      "\n",
      "\n",
      "Gate set supported by the Rigetti Ankaa-2 device:\n",
      " ['cz', 'xy', 'ccnot', 'cnot', 'cphaseshift', 'cphaseshift00', 'cphaseshift01', 'cphaseshift10', 'cswap', 'h', 'i', 'iswap', 'phaseshift', 'pswap', 'rx', 'ry', 'rz', 's', 'si', 'swap', 't', 'ti', 'x', 'y', 'z']\n",
      "\n",
      "\n",
      "Gate set supported by the IonQ Aria 1 device:\n",
      " ['x', 'y', 'z', 'h', 's', 'si', 't', 'ti', 'v', 'vi', 'rx', 'ry', 'rz', 'cnot', 'swap', 'xx', 'yy', 'zz']\n",
      "\n",
      "\n",
      "Gate set supported by the IQM Garnet device:\n",
      " ['ccnot', 'cnot', 'cphaseshift', 'cphaseshift00', 'cphaseshift01', 'cphaseshift10', 'cswap', 'swap', 'iswap', 'pswap', 'ecr', 'cy', 'cz', 'xy', 'xx', 'yy', 'zz', 'h', 'i', 'phaseshift', 'rx', 'ry', 'rz', 's', 'si', 't', 'ti', 'v', 'vi', 'x', 'y', 'z', 'prx']\n"
     ]
    }
   ],
   "source": [
    "# print all (the usual suspects) available gates currently available within SDK\n",
    "gate_set = [attr for attr in dir(Gate) if attr[0] in string.ascii_uppercase]\n",
    "print(\"Gate set supported by SDK:\\n\", gate_set)\n",
    "print(\"\\n\")\n",
    "\n",
    "# the Rigetti device\n",
    "rigetti = AwsDevice(Devices.Rigetti.Ankaa2)\n",
    "supported_gates = rigetti.properties.action[DeviceActionType.OPENQASM].supportedOperations\n",
    "# print the supported gate set\n",
    "print(\"Gate set supported by the Rigetti Ankaa-2 device:\\n\", supported_gates)\n",
    "print(\"\\n\")\n",
    "\n",
    "# the IonQ device\n",
    "ionq = AwsDevice(Devices.IonQ.Aria1)\n",
    "supported_gates = ionq.properties.action[DeviceActionType.OPENQASM].supportedOperations\n",
    "# print the supported gate set\n",
    "print(\"Gate set supported by the IonQ Aria 1 device:\\n\", supported_gates)\n",
    "print(\"\\n\")\n",
    "\n",
    "# the IQM Garnet device\n",
    "iqm = AwsDevice(Devices.IQM.Garnet)\n",
    "supported_gates = iqm.properties.action[DeviceActionType.OPENQASM].supportedOperations\n",
    "# print the supported gate set\n",
    "print(\"Gate set supported by the IQM Garnet device:\\n\", supported_gates)"
   ]
  },
  {
   "cell_type": "code",
   "execution_count": 4,
   "metadata": {},
   "outputs": [
    {
     "name": "stdout",
     "output_type": "stream",
     "text": [
      "Rigetti: {<QueueType.NORMAL: 'Normal'>: '0', <QueueType.PRIORITY: 'Priority'>: '0'}\n",
      "IonQ: {<QueueType.NORMAL: 'Normal'>: '6', <QueueType.PRIORITY: 'Priority'>: '0'}\n",
      "IQM: {<QueueType.NORMAL: 'Normal'>: '11', <QueueType.PRIORITY: 'Priority'>: '1'}\n"
     ]
    }
   ],
   "source": [
    "# check for the queue_depth for quantum tasks on the selected device\n",
    "print(f\"Rigetti: {rigetti.queue_depth().quantum_tasks}\")\n",
    "print(f\"IonQ: {ionq.queue_depth().quantum_tasks}\")\n",
    "print(f\"IQM: {iqm.queue_depth().quantum_tasks}\")"
   ]
  },
  {
   "cell_type": "markdown",
   "metadata": {},
   "source": [
    "Below are Unix/CLI commands"
   ]
  },
  {
   "cell_type": "code",
   "execution_count": null,
   "metadata": {},
   "outputs": [],
   "source": [
    "# AWS device execution window\n",
    "!aws braket --region us-west-1 get-device --device-arn arn:aws:braket:::device/qpu/rigetti/Aspen-9 --output yaml"
   ]
  }
 ],
 "metadata": {
  "kernelspec": {
   "display_name": "venv",
   "language": "python",
   "name": "python3"
  },
  "language_info": {
   "codemirror_mode": {
    "name": "ipython",
    "version": 3
   },
   "file_extension": ".py",
   "mimetype": "text/x-python",
   "name": "python",
   "nbconvert_exporter": "python",
   "pygments_lexer": "ipython3",
   "version": "3.12.8"
  }
 },
 "nbformat": 4,
 "nbformat_minor": 2
}
