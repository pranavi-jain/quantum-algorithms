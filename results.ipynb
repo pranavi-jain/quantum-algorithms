{
 "cells": [
  {
   "cell_type": "code",
   "execution_count": null,
   "metadata": {},
   "outputs": [
    {
     "data": {
      "text/plain": [
       "'\\nTo store:\\nInput -- unique key, marked states, circuit, number of qubits (opt), transpiled ckt depth,\\nOutput -- unique key, results, counts, execution time\\n'"
      ]
     },
     "execution_count": 1,
     "metadata": {},
     "output_type": "execute_result"
    }
   ],
   "source": [
    "'''\n",
    "To store:\n",
    "Input -- unique key, marked states, circuit, number of qubits (opt), transpiled ckt depth,\n",
    "Output -- unique key, results, counts, execution time\n",
    "'''"
   ]
  },
  {
   "cell_type": "code",
   "execution_count": null,
   "metadata": {},
   "outputs": [],
   "source": [
    "\n",
    "# Step 2: Convert Qiskit Circuit to Braket Circuit\n",
    "braket_circuit = Circuit().from_qiskit(qiskit_circuit)"
   ]
  }
 ],
 "metadata": {
  "kernelspec": {
   "display_name": "venv",
   "language": "python",
   "name": "python3"
  },
  "language_info": {
   "codemirror_mode": {
    "name": "ipython",
    "version": 3
   },
   "file_extension": ".py",
   "mimetype": "text/x-python",
   "name": "python",
   "nbconvert_exporter": "python",
   "pygments_lexer": "ipython3",
   "version": "3.12.8"
  }
 },
 "nbformat": 4,
 "nbformat_minor": 2
}
