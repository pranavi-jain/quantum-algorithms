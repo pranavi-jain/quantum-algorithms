{
 "cells": [
  {
   "cell_type": "code",
   "execution_count": null,
   "metadata": {},
   "outputs": [
    {
     "data": {
      "text/plain": [
       "'\\nTo store:\\nInput -- unique key, marked states, circuit, number of qubits (opt), transpiled ckt depth,\\nOutput -- unique key, results, counts, execution time\\n'"
      ]
     },
     "execution_count": 1,
     "metadata": {},
     "output_type": "execute_result"
    }
   ],
   "source": [
    "'''\n",
    "To store:\n",
    "Input -- unique key, marked states, circuit, number of qubits (opt), transpiled ckt depth,\n",
    "Output -- unique key, results, counts, execution time\n",
    "'''"
   ]
  },
  {
   "cell_type": "code",
   "execution_count": null,
   "metadata": {},
   "outputs": [],
   "source": [
    "# Built-in modules\n",
    "%matplotlib inline\n",
    "import matplotlib.pyplot as plt\n",
    "import numpy as np\n",
    "import pandas as pd\n"
   ]
  },
  {
   "cell_type": "code",
   "execution_count": 1,
   "metadata": {},
   "outputs": [],
   "source": [
    "# Get results from AWS linked hardware\n",
    "\n",
    "# Print results from AWS linked hardware\n",
    "# metadata = task.metadata()\n",
    "\n",
    "# start_time = metadata['startedAt']  # Start time of the task\n",
    "# end_time = metadata['endedAt']      # End time of the task\n",
    "\n",
    "# # Step 3: Calculate execution time (in seconds)\n",
    "# execution_time = (end_time - start_time).total_seconds()"
   ]
  },
  {
   "cell_type": "code",
   "execution_count": null,
   "metadata": {},
   "outputs": [],
   "source": []
  }
 ],
 "metadata": {
  "kernelspec": {
   "display_name": "venv",
   "language": "python",
   "name": "python3"
  },
  "language_info": {
   "codemirror_mode": {
    "name": "ipython",
    "version": 3
   },
   "file_extension": ".py",
   "mimetype": "text/x-python",
   "name": "python",
   "nbconvert_exporter": "python",
   "pygments_lexer": "ipython3",
   "version": "3.12.8"
  }
 },
 "nbformat": 4,
 "nbformat_minor": 2
}
