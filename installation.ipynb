{
 "cells": [
  {
   "cell_type": "code",
   "execution_count": null,
   "metadata": {},
   "outputs": [],
   "source": [
    "%pip install -r requirements.txt"
   ]
  },
  {
   "cell_type": "code",
   "execution_count": 23,
   "metadata": {},
   "outputs": [
    {
     "name": "stdout",
     "output_type": "stream",
     "text": [
      "annotated-types==0.7.0\n",
      "asttokens==2.4.1\n",
      "attrs==24.2.0\n",
      "backcall==0.2.0\n",
      "beautifulsoup4==4.12.3\n",
      "bleach==6.2.0\n",
      "certifi==2024.8.30\n",
      "cffi==1.17.1\n",
      "charset-normalizer==3.4.0\n",
      "colorama==0.4.6\n",
      "comm==0.2.2\n",
      "contourpy==1.3.1\n",
      "cryptography==43.0.3\n",
      "cycler==0.12.1\n",
      "debugpy==1.8.9\n",
      "decorator==5.1.1\n",
      "defusedxml==0.7.1\n",
      "dill==0.3.9\n",
      "docopt==0.6.2\n",
      "executing==2.1.0\n",
      "fastjsonschema==2.21.1\n",
      "fonttools==4.55.0\n",
      "ibm-cloud-sdk-core==3.22.0\n",
      "ibm-platform-services==0.59.0\n",
      "idna==3.10\n",
      "ipykernel==6.29.5\n",
      "ipython==8.12.3\n",
      "jedi==0.19.2\n",
      "Jinja2==3.1.4\n",
      "jsonschema==4.23.0\n",
      "jsonschema-specifications==2024.10.1\n",
      "jupyter_client==8.6.3\n",
      "jupyter_core==5.7.2\n",
      "jupyterlab_pygments==0.3.0\n",
      "kiwisolver==1.4.7\n",
      "MarkupSafe==3.0.2\n",
      "matplotlib==3.9.2\n",
      "matplotlib-inline==0.1.7\n",
      "mistune==3.0.2\n",
      "mpmath==1.3.0\n",
      "nbclient==0.10.1\n",
      "nbconvert==7.16.4\n",
      "nbformat==5.10.4\n",
      "nest-asyncio==1.6.0\n",
      "numpy==2.1.3\n",
      "packaging==24.2\n",
      "pandas==2.2.3\n",
      "pandocfilters==1.5.1\n",
      "parso==0.8.4\n",
      "pbr==6.1.0\n",
      "pickleshare==0.7.5\n",
      "pillow==11.0.0\n",
      "pip-check-reqs==2.5.3\n",
      "pipreqs==0.5.0\n",
      "platformdirs==4.3.6\n",
      "prompt_toolkit==3.0.48\n",
      "psutil==6.1.0\n",
      "pure_eval==0.2.3\n",
      "pycparser==2.22\n",
      "pydantic==2.10.1\n",
      "pydantic_core==2.27.1\n",
      "pydot==3.0.2\n",
      "Pygments==2.18.0\n",
      "PyJWT==2.10.0\n",
      "pylatexenc==2.10\n",
      "pyparsing==3.2.0\n",
      "pyspnego==0.11.2\n",
      "python-dateutil==2.9.0.post0\n",
      "pytz==2024.2\n",
      "pywin32==308\n",
      "pyzmq==26.2.0\n",
      "qiskit==1.2.4\n",
      "qiskit-aer==0.15.1\n",
      "qiskit-ibm-runtime==0.33.2\n",
      "referencing==0.35.1\n",
      "requests==2.32.3\n",
      "requests_ntlm==1.3.0\n",
      "rpds-py==0.22.3\n",
      "rustworkx==0.15.1\n",
      "scipy==1.14.1\n",
      "seaborn==0.13.2\n",
      "six==1.16.0\n",
      "soupsieve==2.6\n",
      "sspilib==0.2.0\n",
      "stack-data==0.6.3\n",
      "stevedore==5.4.0\n",
      "symengine==0.13.0\n",
      "sympy==1.13.3\n",
      "tinycss2==1.4.0\n",
      "tornado==6.4.2\n",
      "traitlets==5.14.3\n",
      "typing_extensions==4.12.2\n",
      "tzdata==2024.2\n",
      "urllib3==2.2.3\n",
      "wcwidth==0.2.13\n",
      "webencodings==0.5.1\n",
      "websocket-client==1.8.0\n",
      "yarg==0.1.9\n"
     ]
    }
   ],
   "source": [
    "!pip freeze\n",
    "# !pip freeze > requirements.txt"
   ]
  },
  {
   "cell_type": "code",
   "execution_count": null,
   "metadata": {},
   "outputs": [],
   "source": [
    "# Not needed after installing all packages from requirements.txt\n",
    "%pip install qiskit\n",
    "%pip install qiskit-ibm-runtime\n",
    "%pip install qiskit[visualization]\n",
    "%pip install qiskit-aer"
   ]
  },
  {
   "cell_type": "code",
   "execution_count": 20,
   "metadata": {},
   "outputs": [
    {
     "name": "stdout",
     "output_type": "stream",
     "text": [
      "Python 3.12.7\n",
      "\n",
      "Qiskit 1.2.4\n"
     ]
    }
   ],
   "source": [
    "# Check current python version\n",
    "!python --version\n",
    "\n",
    "# Check current qisit version\n",
    "import qiskit\n",
    "print('\\n'+'Qiskit ' + qiskit.version.get_version_info())"
   ]
  },
  {
   "cell_type": "code",
   "execution_count": null,
   "metadata": {},
   "outputs": [],
   "source": []
  }
 ],
 "metadata": {
  "kernelspec": {
   "display_name": ".venv",
   "language": "python",
   "name": "python3"
  },
  "language_info": {
   "codemirror_mode": {
    "name": "ipython",
    "version": 3
   },
   "file_extension": ".py",
   "mimetype": "text/x-python",
   "name": "python",
   "nbconvert_exporter": "python",
   "pygments_lexer": "ipython3",
   "version": "3.12.7"
  }
 },
 "nbformat": 4,
 "nbformat_minor": 2
}
